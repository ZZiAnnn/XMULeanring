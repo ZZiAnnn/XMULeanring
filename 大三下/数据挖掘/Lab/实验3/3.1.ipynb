{
 "cells": [
  {
   "cell_type": "markdown",
   "metadata": {},
   "source": [
    "# <center>第3章 Python数据分析</center>"
   ]
  },
  {
   "cell_type": "markdown",
   "metadata": {},
   "source": [
    "<p style=\"text-indent:2em\">人类已进数据时代，能够掌握和利用数据分析技术、从海量数据中发现并挖掘隐藏在大量数据背后的有价值的信息、总结出数据的内在规律变得尤其重要。要熟练进行数据分析，必须熟悉常规数据分析方法及原理，同时需要掌握专业数据分析工具进行特定的数据统计、数据建模等。下面我们介绍这些工具及其数据分析方法。"
   ]
  },
  {
   "cell_type": "markdown",
   "metadata": {},
   "source": [
    "## 3.1数据分析基础"
   ]
  },
  {
   "cell_type": "markdown",
   "metadata": {},
   "source": [
    "<p style=\"text-indent:2em\">数据分析旨在通过发现所研究数据的内在规律，进而提炼出有价值的信息，帮助发现、分析、解决问题，从而实现高效决策。根据分析的不同作用，可以把数据分析划分为三大类：\n",
    "    \n",
    "**1.现状分析**：通过分析所研究的数据，明确所研究对象的现状。\n",
    "\n",
    "**2.原因分析**：通过探索揭示隐藏于数据背后的内在规律和联动关系，还可以挖掘出数据中出现异常的原因。\n",
    "        \n",
    "**3.预测分析**：依靠现有的调查资料，透过现象研究深层的规律性，并客观地预测出所研究对象的未来发展趋势。       "
   ]
  },
  {
   "cell_type": "markdown",
   "metadata": {},
   "source": [
    "### 3.1.1\t 对比分析"
   ]
  },
  {
   "cell_type": "markdown",
   "metadata": {},
   "source": [
    "<p style=\"text-indent:2em\">对比分析是指对两个或者两个以上的指标进行对比，直观地反映出事物数量上的差异及变化，从而科学地做出判断和评价，揭示事物发展变化情况及其规律性。对比分析中最常用到的术语是指标和维度。"
   ]
  },
  {
   "cell_type": "markdown",
   "metadata": {},
   "source": [
    "**1.指标**   也称为度量，是一种衡量事物发展程度的单位或方法。指标有绝对数指标和相对数指标两种，绝对数指标指的是数量，]主要用来衡量事物发展规模大小，相对数指标就是质量,主要用来衡量事物发展的质量高低。"
   ]
  },
  {
   "cell_type": "markdown",
   "metadata": {},
   "source": [
    "**2.维度**  维度是用来对比事物发展程度好坏的.按照维度来进行划分的，可以分为纵向对比方式和横向对比方式;按照数据类型来划分，可以分为定性维度与定量维度。"
   ]
  },
  {
   "cell_type": "markdown",
   "metadata": {},
   "source": [
    "接下来通过一个案例介绍对比分析，首先将案例数据导入，示例代码如下："
   ]
  },
  {
   "cell_type": "code",
   "execution_count": 1,
   "metadata": {
    "tags": []
   },
   "outputs": [
    {
     "data": {
      "text/html": [
       "<div>\n",
       "<style scoped>\n",
       "    .dataframe tbody tr th:only-of-type {\n",
       "        vertical-align: middle;\n",
       "    }\n",
       "\n",
       "    .dataframe tbody tr th {\n",
       "        vertical-align: top;\n",
       "    }\n",
       "\n",
       "    .dataframe thead th {\n",
       "        text-align: right;\n",
       "    }\n",
       "</style>\n",
       "<table border=\"1\" class=\"dataframe\">\n",
       "  <thead>\n",
       "    <tr style=\"text-align: right;\">\n",
       "      <th></th>\n",
       "      <th>ID</th>\n",
       "      <th>gender</th>\n",
       "      <th>seniors</th>\n",
       "      <th>month</th>\n",
       "      <th>payment_method</th>\n",
       "      <th>bill</th>\n",
       "    </tr>\n",
       "  </thead>\n",
       "  <tbody>\n",
       "    <tr>\n",
       "      <th>0</th>\n",
       "      <td>7590-VHVEG</td>\n",
       "      <td>Female</td>\n",
       "      <td>0</td>\n",
       "      <td>1</td>\n",
       "      <td>Electronic check</td>\n",
       "      <td>29.85</td>\n",
       "    </tr>\n",
       "    <tr>\n",
       "      <th>1</th>\n",
       "      <td>5575-GNVDE</td>\n",
       "      <td>Male</td>\n",
       "      <td>0</td>\n",
       "      <td>34</td>\n",
       "      <td>Mailed check</td>\n",
       "      <td>56.95</td>\n",
       "    </tr>\n",
       "    <tr>\n",
       "      <th>2</th>\n",
       "      <td>3668-QPYBK</td>\n",
       "      <td>Male</td>\n",
       "      <td>0</td>\n",
       "      <td>2</td>\n",
       "      <td>Mailed check</td>\n",
       "      <td>53.85</td>\n",
       "    </tr>\n",
       "    <tr>\n",
       "      <th>3</th>\n",
       "      <td>7795-CFOCW</td>\n",
       "      <td>Male</td>\n",
       "      <td>0</td>\n",
       "      <td>45</td>\n",
       "      <td>Bank transfer (automatic)</td>\n",
       "      <td>42.30</td>\n",
       "    </tr>\n",
       "    <tr>\n",
       "      <th>4</th>\n",
       "      <td>9237-HQITU</td>\n",
       "      <td>Female</td>\n",
       "      <td>0</td>\n",
       "      <td>2</td>\n",
       "      <td>Electronic check</td>\n",
       "      <td>70.70</td>\n",
       "    </tr>\n",
       "  </tbody>\n",
       "</table>\n",
       "</div>"
      ],
      "text/plain": [
       "           ID  gender  seniors  month             payment_method   bill\n",
       "0  7590-VHVEG  Female        0      1           Electronic check  29.85\n",
       "1  5575-GNVDE    Male        0     34               Mailed check  56.95\n",
       "2  3668-QPYBK    Male        0      2               Mailed check  53.85\n",
       "3  7795-CFOCW    Male        0     45  Bank transfer (automatic)  42.30\n",
       "4  9237-HQITU  Female        0      2           Electronic check  70.70"
      ]
     },
     "execution_count": 1,
     "metadata": {},
     "output_type": "execute_result"
    }
   ],
   "source": [
    "import pandas as pd\n",
    "data= pd.read_csv('./data/Operator.csv')\n",
    "data.head()"
   ]
  },
  {
   "cell_type": "markdown",
   "metadata": {},
   "source": [
    "<p style=\"text-indent:2em\">这是一份运营商用户的基本信息，第一列为用户ID，第二列为性别gender，第三列为用户是否为老年人seniors（0表示不是老年人，1表示是老年人），第四列为入网月份数month，第五列为支付方式payment_method，第六列为每月话费金额bill。"
   ]
  },
  {
   "cell_type": "markdown",
   "metadata": {},
   "source": [
    "### 3.1.2\t 分组分析"
   ]
  },
  {
   "cell_type": "markdown",
   "metadata": {},
   "source": [
    "<p style=\"text-indent:2em\">分组分析是按照“不同性质分开，相同性质合并”的原则，将对象根据分组字段划分成不同部分，保证组内对象属性相一致、组与组之间属性有差异，以对比分析各组之间差异性。\n",
    "    \n",
    "**1.定性分析**    定性分组是指按事物的固有属性划分，如性别、民族、学历等属性。\n",
    "\n",
    "**2.定量分组**    定量分组是根据具体需要，把数值型数据进行等距或非等距的分组。"
   ]
  },
  {
   "cell_type": "markdown",
   "metadata": {},
   "source": [
    "<p style=\"text-indent:2em\">首先对性别gender列进行分组，统计不同性别用户的入网月份数，得到一个性别分组平均入网月份数的统计结果，示例代码如下："
   ]
  },
  {
   "cell_type": "code",
   "execution_count": 2,
   "metadata": {
    "tags": []
   },
   "outputs": [
    {
     "data": {
      "text/plain": [
       "gender\n",
       "Female    32.244553\n",
       "Male      32.495359\n",
       "Name: month, dtype: float64"
      ]
     },
     "execution_count": 2,
     "metadata": {},
     "output_type": "execute_result"
    }
   ],
   "source": [
    "#通过性别分组，对比不同性别入网月份数均值\n",
    "gm = data.groupby(by=['gender'])['month'].agg('mean')\n",
    "gm"
   ]
  },
  {
   "cell_type": "markdown",
   "metadata": {},
   "source": [
    "<p style=\"text-indent:2em\">通过对比，可以发现不同性别的入网月份数相差并不大，男性数据稍微偏高一些。"
   ]
  },
  {
   "cell_type": "markdown",
   "metadata": {},
   "source": [
    "## 3.1.3\t 结构分析"
   ]
  },
  {
   "cell_type": "markdown",
   "metadata": {},
   "source": [
    "<p style=\"text-indent:2em\">结构分析法，是在有序分组后，对原始数据进行分组求和或计数，再求每个分组统计值占整体统计值的比重，从而分析出总体的内部构成特征。\n",
    "    \n",
    "<p style=\"text-indent:2em\">下面继续使用分组分析的案例数据，按性别分组，统计不同性别的用户数，来分析整体中不同性别用户所占的结构比例，示例代码如下："
   ]
  },
  {
   "cell_type": "code",
   "execution_count": 3,
   "metadata": {
    "tags": []
   },
   "outputs": [
    {
     "data": {
      "text/plain": [
       "gender\n",
       "Female    0.495244\n",
       "Male      0.504756\n",
       "Name: ID, dtype: float64"
      ]
     },
     "execution_count": 3,
     "metadata": {},
     "output_type": "execute_result"
    }
   ],
   "source": [
    "import pandas as pd\n",
    "data= pd.read_csv('./data/Operator.csv')\n",
    "gm = data.groupby(by=['gender'])['ID'].agg('count')\n",
    "gm/gm.sum()"
   ]
  },
  {
   "cell_type": "markdown",
   "metadata": {},
   "source": [
    "## 3.1.4\t 分布分析"
   ]
  },
  {
   "cell_type": "markdown",
   "metadata": {},
   "source": [
    "<p style=\"text-indent:2em\">分布分析重点查看数据的分布情况，依据是否等距对数据进行分组后，进而研究各组分布规律的一种分析方法。等距分组可以运用cut函数，bins参数和groupby函数等等，把连续型数据等宽离散化。"
   ]
  },
  {
   "cell_type": "markdown",
   "metadata": {},
   "source": [
    "<p style=\"text-indent:2em\">对入网月份数进行分组，使用用户ID进行计数统计，来查看用户入网月份数的分布情况。为了使分布规律更加明显，把月份数进行分段、划分为几个区间，再按照区间进行入网月份数的分组汇总，示例代码如下："
   ]
  },
  {
   "cell_type": "code",
   "execution_count": 4,
   "metadata": {
    "tags": []
   },
   "outputs": [
    {
     "data": {
      "text/plain": [
       "入网月份数分层\n",
       "20个月以下       2867\n",
       "21个月到30个月     763\n",
       "31个月到40个月     645\n",
       "41个月以上       2757\n",
       "Name: ID, dtype: int64"
      ]
     },
     "execution_count": 4,
     "metadata": {},
     "output_type": "execute_result"
    }
   ],
   "source": [
    "import pandas as pd\n",
    "data= pd.read_csv('./data/Operator.csv')\n",
    "bins = [0,20,30,40,100]                                                  #设置入网月份数分段值\n",
    "monthLabels = ['20个月以下','21个月到30个月','31个月到40个月','41个月以上'] #设置入网月份数分段标签\n",
    "data['入网月份数分层'] = pd.cut(data.month,bins,labels=monthLabels)       #生成入网月份数分段列\n",
    "monthResult = data.groupby(by=['入网月份数分层'])['ID'].agg('count')\n",
    "monthResult"
   ]
  },
  {
   "cell_type": "markdown",
   "metadata": {},
   "source": [
    "<p style=\"text-indent:2em\">为了更直观更清晰地看到数据，我们按入网月份数分组，统计各区间的数量和每个入网月份数分层的用户数占总用户数的比重。示例代码如下："
   ]
  },
  {
   "cell_type": "code",
   "execution_count": null,
   "metadata": {
    "tags": []
   },
   "outputs": [],
   "source": [
    "monthResult.sum()                                                        #对每个入网月份数分层的用户求和\n",
    "monthResult/monthResult.sum()                                            #计算各入网月份数分层用户比例\n",
    "pMonthResult = round(monthResult/monthResult.sum(),4)*100\n",
    "pMonthResult.map('{:,.2f}%'.format)"
   ]
  },
  {
   "cell_type": "markdown",
   "metadata": {},
   "source": [
    "## 3.1.5\t 交叉分析"
   ]
  },
  {
   "cell_type": "markdown",
   "metadata": {},
   "source": [
    "<p style=\"text-indent:2em\">交叉分析法，即从数据的不同维度，综合进行分组细分，以进一步了解数据的结构、分布特征。\n",
    "        继续使用分组分析的案例进行分析，统计各性别、各入网月份数区间的用户数，那么就可以将入网月份数区间作为行、性别作为列，示例代码如下："
   ]
  },
  {
   "cell_type": "code",
   "execution_count": 5,
   "metadata": {
    "tags": []
   },
   "outputs": [
    {
     "data": {
      "text/html": [
       "<div>\n",
       "<style scoped>\n",
       "    .dataframe tbody tr th:only-of-type {\n",
       "        vertical-align: middle;\n",
       "    }\n",
       "\n",
       "    .dataframe tbody tr th {\n",
       "        vertical-align: top;\n",
       "    }\n",
       "\n",
       "    .dataframe thead th {\n",
       "        text-align: right;\n",
       "    }\n",
       "</style>\n",
       "<table border=\"1\" class=\"dataframe\">\n",
       "  <thead>\n",
       "    <tr style=\"text-align: right;\">\n",
       "      <th>gender</th>\n",
       "      <th>Female</th>\n",
       "      <th>Male</th>\n",
       "    </tr>\n",
       "    <tr>\n",
       "      <th>入网月份数分层</th>\n",
       "      <th></th>\n",
       "      <th></th>\n",
       "    </tr>\n",
       "  </thead>\n",
       "  <tbody>\n",
       "    <tr>\n",
       "      <th>20个月以下</th>\n",
       "      <td>1431</td>\n",
       "      <td>1436</td>\n",
       "    </tr>\n",
       "    <tr>\n",
       "      <th>21个月到30个月</th>\n",
       "      <td>368</td>\n",
       "      <td>395</td>\n",
       "    </tr>\n",
       "    <tr>\n",
       "      <th>31个月到40个月</th>\n",
       "      <td>313</td>\n",
       "      <td>332</td>\n",
       "    </tr>\n",
       "    <tr>\n",
       "      <th>41个月以上</th>\n",
       "      <td>1371</td>\n",
       "      <td>1386</td>\n",
       "    </tr>\n",
       "  </tbody>\n",
       "</table>\n",
       "</div>"
      ],
      "text/plain": [
       "gender     Female  Male\n",
       "入网月份数分层                \n",
       "20个月以下       1431  1436\n",
       "21个月到30个月     368   395\n",
       "31个月到40个月     313   332\n",
       "41个月以上       1371  1386"
      ]
     },
     "execution_count": 5,
     "metadata": {},
     "output_type": "execute_result"
    }
   ],
   "source": [
    "import pandas as pd\n",
    "data = pd.read_csv('./data/Operator.csv')\n",
    "bins = [0,20,30,40,100]\n",
    "monthLabels = ['20个月以下','21个月到30个月','31个月到40个月','41个月以上']\n",
    "data['入网月份数分层'] = pd.cut(\n",
    "    data.month,\n",
    "    bins,\n",
    "    labels=monthLabels\n",
    ")      #进行交叉统计，行为入网月份数分层，列为性别，对用户ID进行计数统计\n",
    "ptResults = data.pivot_table(\n",
    "    values='ID',\n",
    "    index='入网月份数分层',\n",
    "    columns='gender',\n",
    "    aggfunc='count'\n",
    ")\n",
    "ptResults"
   ]
  },
  {
   "cell_type": "markdown",
   "metadata": {},
   "source": [
    "<p style=\"text-indent:2em\">从输出结果可以看出，行为月份数分组，列为性别，1431代表入网月份数在20个月以下的女性个数，这份统计结果类似Excel数据透视表的统计结果。"
   ]
  },
  {
   "cell_type": "code",
   "execution_count": null,
   "metadata": {},
   "outputs": [],
   "source": []
  }
 ],
 "metadata": {
  "kernelspec": {
   "display_name": "Python 3 (ipykernel)",
   "language": "python",
   "name": "python3"
  },
  "language_info": {
   "codemirror_mode": {
    "name": "ipython",
    "version": 3
   },
   "file_extension": ".py",
   "mimetype": "text/x-python",
   "name": "python",
   "nbconvert_exporter": "python",
   "pygments_lexer": "ipython3",
   "version": "3.9.13"
  }
 },
 "nbformat": 4,
 "nbformat_minor": 4
}
