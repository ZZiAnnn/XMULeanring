{
 "cells": [
  {
   "cell_type": "markdown",
   "metadata": {},
   "source": [
    "## 3.2 描述性统计分析"
   ]
  },
  {
   "cell_type": "markdown",
   "metadata": {},
   "source": [
    "<p style=\"text-indent:2em\">描述统计是一种借助图形可视化或数学方法，描绘或总结数据的基本情况，完成数据的整合与分析的方法,可从四个维度展开分析：数据的集中趋势、数据的离散程度和数据的分布形态、数据的相关性。"
   ]
  },
  {
   "cell_type": "markdown",
   "metadata": {},
   "source": [
    "### 3.2.1 集中趋势分析"
   ]
  },
  {
   "cell_type": "markdown",
   "metadata": {},
   "source": [
    "<p style=\"text-indent:2em\">集中趋势代表了数据的共同性质和一般水平。众数、中位数、平均数和分位数是描述数据集中趋势的主要指标。\n",
    "    \n",
    "**1.平均数**  表示一组数据集中趋势的量数，又称均值。\n",
    "\n",
    "**2.中位数**  提供了一系列数值的中心位置。\n",
    "\n",
    "**3.分位数**  低四分位数和高四分位数对于研究数据分布是极为重要的。小于低四分位数和大于四分位数的数值通常是异常罕见的值，容易对分析结果产生负面影响。\n",
    "\n",
    "**4.众数**  一般情况下，只有在数据量比较大且值的重复性较高的情况下，众数才有意义。\n",
    "\n",
    "**5.Python实现集中趋势分析**\n",
    "        \n",
    "<p style=\"text-indent:2em\">以58同城房源销售数据（一个包含了分类数据和数值型数据的数据集）为例，实现58同城房源销售数据中房源每平方米价格(price)这一数值数据的集中趋势分析。"
   ]
  },
  {
   "cell_type": "markdown",
   "metadata": {},
   "source": [
    "**（1）加载58同城房源销售数据。**示例代码如下："
   ]
  },
  {
   "cell_type": "code",
   "execution_count": 1,
   "metadata": {
    "tags": []
   },
   "outputs": [
    {
     "data": {
      "text/html": [
       "<div>\n",
       "<style scoped>\n",
       "    .dataframe tbody tr th:only-of-type {\n",
       "        vertical-align: middle;\n",
       "    }\n",
       "\n",
       "    .dataframe tbody tr th {\n",
       "        vertical-align: top;\n",
       "    }\n",
       "\n",
       "    .dataframe thead th {\n",
       "        text-align: right;\n",
       "    }\n",
       "</style>\n",
       "<table border=\"1\" class=\"dataframe\">\n",
       "  <thead>\n",
       "    <tr style=\"text-align: right;\">\n",
       "      <th></th>\n",
       "      <th>price</th>\n",
       "      <th>housearea</th>\n",
       "      <th>houseoriented</th>\n",
       "      <th>shishu</th>\n",
       "      <th>housefloor</th>\n",
       "      <th>housetype</th>\n",
       "    </tr>\n",
       "  </thead>\n",
       "  <tbody>\n",
       "    <tr>\n",
       "      <th>0</th>\n",
       "      <td>50000</td>\n",
       "      <td>100</td>\n",
       "      <td>南</td>\n",
       "      <td>2</td>\n",
       "      <td>3</td>\n",
       "      <td>公寓</td>\n",
       "    </tr>\n",
       "    <tr>\n",
       "      <th>1</th>\n",
       "      <td>73513</td>\n",
       "      <td>123</td>\n",
       "      <td>南北</td>\n",
       "      <td>3</td>\n",
       "      <td>4</td>\n",
       "      <td>连排别墅</td>\n",
       "    </tr>\n",
       "    <tr>\n",
       "      <th>2</th>\n",
       "      <td>23434</td>\n",
       "      <td>86</td>\n",
       "      <td>北</td>\n",
       "      <td>3</td>\n",
       "      <td>5</td>\n",
       "      <td>公寓</td>\n",
       "    </tr>\n",
       "    <tr>\n",
       "      <th>3</th>\n",
       "      <td>45623</td>\n",
       "      <td>45</td>\n",
       "      <td>北</td>\n",
       "      <td>2</td>\n",
       "      <td>8</td>\n",
       "      <td>独立屋</td>\n",
       "    </tr>\n",
       "    <tr>\n",
       "      <th>4</th>\n",
       "      <td>18573</td>\n",
       "      <td>65</td>\n",
       "      <td>南</td>\n",
       "      <td>2</td>\n",
       "      <td>7</td>\n",
       "      <td>连排别墅</td>\n",
       "    </tr>\n",
       "    <tr>\n",
       "      <th>5</th>\n",
       "      <td>23567</td>\n",
       "      <td>74</td>\n",
       "      <td>南</td>\n",
       "      <td>2</td>\n",
       "      <td>1</td>\n",
       "      <td>公寓</td>\n",
       "    </tr>\n",
       "    <tr>\n",
       "      <th>6</th>\n",
       "      <td>85764</td>\n",
       "      <td>89</td>\n",
       "      <td>北</td>\n",
       "      <td>3</td>\n",
       "      <td>9</td>\n",
       "      <td>独立屋</td>\n",
       "    </tr>\n",
       "    <tr>\n",
       "      <th>7</th>\n",
       "      <td>63547</td>\n",
       "      <td>56</td>\n",
       "      <td>北</td>\n",
       "      <td>2</td>\n",
       "      <td>8</td>\n",
       "      <td>连排别墅</td>\n",
       "    </tr>\n",
       "    <tr>\n",
       "      <th>8</th>\n",
       "      <td>85638</td>\n",
       "      <td>76</td>\n",
       "      <td>南</td>\n",
       "      <td>3</td>\n",
       "      <td>12</td>\n",
       "      <td>公寓</td>\n",
       "    </tr>\n",
       "    <tr>\n",
       "      <th>9</th>\n",
       "      <td>23452</td>\n",
       "      <td>75</td>\n",
       "      <td>南北</td>\n",
       "      <td>3</td>\n",
       "      <td>2</td>\n",
       "      <td>独立屋</td>\n",
       "    </tr>\n",
       "    <tr>\n",
       "      <th>10</th>\n",
       "      <td>76543</td>\n",
       "      <td>64</td>\n",
       "      <td>南北</td>\n",
       "      <td>2</td>\n",
       "      <td>17</td>\n",
       "      <td>公寓</td>\n",
       "    </tr>\n",
       "    <tr>\n",
       "      <th>11</th>\n",
       "      <td>20947</td>\n",
       "      <td>53</td>\n",
       "      <td>北</td>\n",
       "      <td>2</td>\n",
       "      <td>16</td>\n",
       "      <td>连排别墅</td>\n",
       "    </tr>\n",
       "    <tr>\n",
       "      <th>12</th>\n",
       "      <td>84461</td>\n",
       "      <td>42</td>\n",
       "      <td>南北</td>\n",
       "      <td>1</td>\n",
       "      <td>4</td>\n",
       "      <td>公寓</td>\n",
       "    </tr>\n",
       "    <tr>\n",
       "      <th>13</th>\n",
       "      <td>81746</td>\n",
       "      <td>89</td>\n",
       "      <td>南北</td>\n",
       "      <td>3</td>\n",
       "      <td>3</td>\n",
       "      <td>公寓</td>\n",
       "    </tr>\n",
       "    <tr>\n",
       "      <th>14</th>\n",
       "      <td>37461</td>\n",
       "      <td>78</td>\n",
       "      <td>南</td>\n",
       "      <td>3</td>\n",
       "      <td>7</td>\n",
       "      <td>公寓</td>\n",
       "    </tr>\n",
       "    <tr>\n",
       "      <th>15</th>\n",
       "      <td>75748</td>\n",
       "      <td>56</td>\n",
       "      <td>南</td>\n",
       "      <td>2</td>\n",
       "      <td>5</td>\n",
       "      <td>独立屋</td>\n",
       "    </tr>\n",
       "    <tr>\n",
       "      <th>16</th>\n",
       "      <td>82634</td>\n",
       "      <td>76</td>\n",
       "      <td>南北</td>\n",
       "      <td>3</td>\n",
       "      <td>6</td>\n",
       "      <td>连排别墅</td>\n",
       "    </tr>\n",
       "    <tr>\n",
       "      <th>17</th>\n",
       "      <td>76123</td>\n",
       "      <td>56</td>\n",
       "      <td>北</td>\n",
       "      <td>2</td>\n",
       "      <td>9</td>\n",
       "      <td>公寓</td>\n",
       "    </tr>\n",
       "    <tr>\n",
       "      <th>18</th>\n",
       "      <td>23145</td>\n",
       "      <td>100</td>\n",
       "      <td>北</td>\n",
       "      <td>3</td>\n",
       "      <td>8</td>\n",
       "      <td>独立屋</td>\n",
       "    </tr>\n",
       "    <tr>\n",
       "      <th>19</th>\n",
       "      <td>23567</td>\n",
       "      <td>80</td>\n",
       "      <td>北</td>\n",
       "      <td>2</td>\n",
       "      <td>7</td>\n",
       "      <td>公寓</td>\n",
       "    </tr>\n",
       "  </tbody>\n",
       "</table>\n",
       "</div>"
      ],
      "text/plain": [
       "    price  housearea houseoriented  shishu  housefloor housetype\n",
       "0   50000        100             南       2           3        公寓\n",
       "1   73513        123            南北       3           4      连排别墅\n",
       "2   23434         86             北       3           5        公寓\n",
       "3   45623         45             北       2           8       独立屋\n",
       "4   18573         65             南       2           7      连排别墅\n",
       "5   23567         74             南       2           1        公寓\n",
       "6   85764         89             北       3           9       独立屋\n",
       "7   63547         56             北       2           8      连排别墅\n",
       "8   85638         76             南       3          12        公寓\n",
       "9   23452         75            南北       3           2       独立屋\n",
       "10  76543         64            南北       2          17        公寓\n",
       "11  20947         53             北       2          16      连排别墅\n",
       "12  84461         42            南北       1           4        公寓\n",
       "13  81746         89            南北       3           3        公寓\n",
       "14  37461         78             南       3           7        公寓\n",
       "15  75748         56             南       2           5       独立屋\n",
       "16  82634         76            南北       3           6      连排别墅\n",
       "17  76123         56             北       2           9        公寓\n",
       "18  23145        100             北       3           8       独立屋\n",
       "19  23567         80             北       2           7        公寓"
      ]
     },
     "execution_count": 1,
     "metadata": {},
     "output_type": "execute_result"
    }
   ],
   "source": [
    "import pandas as pd\n",
    "import numpy as np\n",
    "df=pd.read_excel('./data/58.xlsx')\n",
    "df"
   ]
  },
  {
   "cell_type": "markdown",
   "metadata": {},
   "source": [
    "**（2）调用Pandas库中的函数进行集中趋势分析，计算平均数、中位数、众数、分位数四个指标。**示例代码如下："
   ]
  },
  {
   "cell_type": "code",
   "execution_count": 8,
   "metadata": {
    "tags": []
   },
   "outputs": [
    {
     "name": "stdout",
     "output_type": "stream",
     "text": [
      "平均数：53774 中位数：56773\n",
      "众数： ModeResult(mode=23567, count=2)\n",
      "分位数：\n",
      " 0.00    18573.00\n",
      "0.25    23538.25\n",
      "0.50    56773.50\n",
      "0.75    77843.75\n",
      "1.00    85764.00\n",
      "Name: price, dtype: float64\n"
     ]
    }
   ],
   "source": [
    "mean = df['price'].mean()            #平均数\n",
    "median = df['price'].median()        #中位数\n",
    "from scipy import stats\n",
    "mode = stats.mode(df['price'],keepdims=False)    #众数\n",
    "quantile = df['price'].quantile(np.array([0,0.25,0.50,0.75,1]))  #分位数\n",
    "print('平均数：%d' %mean,'中位数：%d' %median)\n",
    "print('众数：',mode)\n",
    "print('分位数：\\n',quantile)"
   ]
  },
  {
   "cell_type": "markdown",
   "metadata": {},
   "source": [
    "<p style=\"text-indent:2em\">通过调用Pandas库等第三方模块，可以快速对较大的数据集进行集中趋势相关指标的计算。"
   ]
  },
  {
   "cell_type": "markdown",
   "metadata": {},
   "source": [
    "### 3.2.2 Python实现离散程度分析"
   ]
  },
  {
   "cell_type": "markdown",
   "metadata": {},
   "source": [
    "<p style=\"text-indent:2em\">数据的离散程度反映了集中趋势的指标对该组数据的代表性程度。\n",
    "    \n",
    "**1.极差**  数据集中最大值与最小值的差，也称为全距。\n",
    "\n",
    "**2.平均偏差**  数据集中所有数值与算数平均数的差值的绝对值的均值。平均偏差越大，表明各数据与算术平均数的差异程度越大，该算术平均数的代表性就越小。反之，该算数平均数的代表性越大。 \n",
    "\n",
    "**3.方差和标准差**  方差/标准差与数据的离散程度成正比,是测算数值数据的程度最重要、最常用的指标。\n",
    "\n",
    "**4.离散系数**  离散系数是数据的标准差与其相应的平均数的比值。\n",
    "\n",
    "**5.异众比率**  总体中非众数频数与总体数的比值。\n",
    "\n",
    "**6. 四分位差**  四分位差是高四分位数同低四分位数之差。\n",
    "\n",
    "**7. Python实现离散程度分析**\n",
    "        \n",
    "<p style=\"text-indent:2em\">本小节将基于房源价格(price)和房源面积(housearea)两组数值型数据、房源楼层(housefloor)一组分类数据进行离散程度分析。"
   ]
  },
  {
   "cell_type": "markdown",
   "metadata": {},
   "source": [
    "**（1）计算房源价格的极差、平均偏差、方差、标准差、四分位差五个指标。**示例代码如下："
   ]
  },
  {
   "cell_type": "code",
   "execution_count": 9,
   "metadata": {
    "tags": []
   },
   "outputs": [
    {
     "name": "stdout",
     "output_type": "stream",
     "text": [
      "极差：67191 平均偏差：24797 方差：728848380 标准差：26997 四分位差：54305\n"
     ]
    }
   ],
   "source": [
    "range = df['price'].max()-df['price'].min()                          #极差\n",
    "mean_var = (df['price'] - df['price'].mean()).abs().mean()           #平均偏差\n",
    "var = df['price'].var()                                              #方差\n",
    "std = df['price'].std()                                              #标准差\n",
    "quan_diff = df['price'].describe().loc['75%'] - df['price'].describe().loc['25%'] #四分位差\n",
    "print(\"极差：%d\" %range,\"平均偏差：%d\" %mean_var,\"方差：%d\" %var,\"标准差：%d\" %std,\"四分位差：%d\" %quan_diff)"
   ]
  },
  {
   "cell_type": "markdown",
   "metadata": {},
   "source": [
    "**（2）计算房源价格和房源面积的离散系数。**示例代码如下："
   ]
  },
  {
   "cell_type": "code",
   "execution_count": 4,
   "metadata": {
    "scrolled": true,
    "tags": []
   },
   "outputs": [
    {
     "name": "stdout",
     "output_type": "stream",
     "text": [
      "price: 0.5020463695493153\n",
      "housearea: 0.27441269426450005\n"
     ]
    }
   ],
   "source": [
    "\n",
    "print('price:', df['price'].std()/df['price'].mean())  \n",
    "print('housearea:', df['housearea'].std()/df['housearea'].mean())  \n"
   ]
  },
  {
   "cell_type": "markdown",
   "metadata": {},
   "source": [
    "<p style=\"text-indent:2em\">由输出结果可知，房屋面积的离散程度小于房屋价格。因此可以得出结论：房屋价格的数值并不稳定。"
   ]
  },
  {
   "cell_type": "markdown",
   "metadata": {},
   "source": [
    "**（3）计算房源楼层的众数和异众比率。**示例代码如下："
   ]
  },
  {
   "cell_type": "code",
   "execution_count": 10,
   "metadata": {
    "tags": []
   },
   "outputs": [
    {
     "name": "stdout",
     "output_type": "stream",
     "text": [
      "楼层的众数: ModeResult(mode=7, count=3)\n",
      "楼层的异众比率： 0.85\n"
     ]
    }
   ],
   "source": [
    "from scipy import stats\n",
    "mode = stats.mode(df['housefloor'],keepdims=False)\n",
    "var_ratio = 1-mode[1]/len(df['housefloor'])   #异众比率\n",
    "print(\"楼层的众数:\",mode)\n",
    "print(\"楼层的异众比率：\",var_ratio)\n"
   ]
  },
  {
   "cell_type": "markdown",
   "metadata": {},
   "source": [
    "<p style=\"text-indent:2em\">由输出结果可知，楼层的众数为7层，占所有房屋楼层样本的比例为0.15。"
   ]
  },
  {
   "cell_type": "markdown",
   "metadata": {},
   "source": [
    "### 3.2.3 Python实现数据分布形态分析"
   ]
  },
  {
   "cell_type": "markdown",
   "metadata": {},
   "source": [
    "<p style=\"text-indent:2em\">数值型数据的分布形态主要分为数据的对称程度分布和数据的高低程度分布。数据的对称程度分布由偏度进行描述，数据的高低程度分布由峰度进行描述。通常，若样本数据的偏度与0接近，而峰度与3接近，就可以得出总体的分布接近于正态分布的结论。\n",
    "    \n",
    "**1.偏度**   偏度用于判断数据集的分布形态是否对称，是统计数据分布程度的度量，并反映了数据分布的偏斜方向。\n",
    "\n",
    "**2.峰度**   峰度是描述数据集中所有数值分布曲线的高低和陡峭程度的指标。\n",
    "\n",
    "**3.Python实现数据分布形态分析**\n",
    "        \n",
    "<p style=\"text-indent:2em\">通过调用Pandas库中的skew()函数和kurt()函数， 基于房源价格(price)和房源面积(price)两组数值型数据，进行数据分布形态分析。示例代码如下："
   ]
  },
  {
   "cell_type": "code",
   "execution_count": 11,
   "metadata": {
    "tags": []
   },
   "outputs": [
    {
     "name": "stdout",
     "output_type": "stream",
     "text": [
      "偏度：\n",
      " price        -0.123327\n",
      "housearea     0.502521\n",
      "shishu       -0.393309\n",
      "housefloor    1.004219\n",
      "dtype: float64\n",
      "峰度：\n",
      " price        -1.881082\n",
      "housearea     0.270255\n",
      "shishu       -0.570425\n",
      "housefloor    0.959914\n",
      "dtype: float64\n"
     ]
    }
   ],
   "source": [
    "skew = df.skew(numeric_only=True)\n",
    "kurt = df.kurt(numeric_only=True)\n",
    "print('偏度：\\n',skew)\n",
    "print('峰度：\\n',kurt)"
   ]
  },
  {
   "cell_type": "markdown",
   "metadata": {},
   "source": [
    "<p style=\"text-indent:2em\">由输出结果可知，房源面积和房源层数都是右偏分布；房源面积的峰度大于房源价格的峰度。由此可以得出结论：房源面积数据的极端值比例较大。此外，58同源房源的数值型数据均不是正态分布。"
   ]
  },
  {
   "cell_type": "markdown",
   "metadata": {},
   "source": [
    "### 3.2.4 相关分析"
   ]
  },
  {
   "cell_type": "markdown",
   "metadata": {},
   "source": [
    "<p style=\"text-indent:2em\">协方差和相关系数是用于衡量两组数据的相关性及其相关程度的指标。\n",
    "**1.协方差**  两个变量的总体误差通过协方差反映。\n",
    "\n",
    "**2.相关系数**  相关系数是基于协方差进行无量纲处理的结果。\n",
    "\n",
    "**3. Python实现相关分析**\n",
    "\n",
    "基于房源价格(price)和房源面积(price)两组数值型数据进行相关分析。示例代码如下：\n"
   ]
  },
  {
   "cell_type": "code",
   "execution_count": 13,
   "metadata": {
    "tags": []
   },
   "outputs": [
    {
     "name": "stdout",
     "output_type": "stream",
     "text": [
      "协方差:\n",
      "                    price     housearea      shishu    housefloor\n",
      "price       7.288484e+08 -25691.205263  112.189474  12836.405263\n",
      "housearea  -2.569121e+04    414.028947    8.252632    -27.165789\n",
      "shishu      1.121895e+02      8.252632    0.357895     -0.231579\n",
      "housefloor  1.283641e+04    -27.165789   -0.231579     17.734211\n",
      "相关系数:\n",
      "                price  housearea    shishu  housefloor\n",
      "price       1.000000  -0.046768  0.006946    0.112906\n",
      "housearea  -0.046768   1.000000  0.677953   -0.317031\n",
      "shishu      0.006946   0.677953  1.000000   -0.091921\n",
      "housefloor  0.112906  -0.317031 -0.091921    1.000000\n"
     ]
    }
   ],
   "source": [
    "cov = df.cov()\n",
    "corr = df.corr()\n",
    "print('协方差:\\n',cov)\n",
    "print('相关系数:\\n',corr)"
   ]
  },
  {
   "cell_type": "markdown",
   "metadata": {},
   "source": [
    "<p style=\"text-indent:2em\">由输出结果可知，房屋面积和房屋室数呈正相关，与房屋价格相关性不高。"
   ]
  },
  {
   "cell_type": "code",
   "execution_count": null,
   "metadata": {},
   "outputs": [],
   "source": []
  }
 ],
 "metadata": {
  "kernelspec": {
   "display_name": "Python 3 (ipykernel)",
   "language": "python",
   "name": "python3"
  },
  "language_info": {
   "codemirror_mode": {
    "name": "ipython",
    "version": 3
   },
   "file_extension": ".py",
   "mimetype": "text/x-python",
   "name": "python",
   "nbconvert_exporter": "python",
   "pygments_lexer": "ipython3",
   "version": "3.9.13"
  },
  "toc": {
   "base_numbering": 1,
   "nav_menu": {},
   "number_sections": false,
   "sideBar": true,
   "skip_h1_title": false,
   "title_cell": "Table of Contents",
   "title_sidebar": "Contents",
   "toc_cell": false,
   "toc_position": {},
   "toc_section_display": true,
   "toc_window_display": false
  }
 },
 "nbformat": 4,
 "nbformat_minor": 4
}
