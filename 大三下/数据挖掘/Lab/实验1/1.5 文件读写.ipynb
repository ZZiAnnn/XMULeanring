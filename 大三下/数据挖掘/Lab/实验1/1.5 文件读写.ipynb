{
 "cells": [
  {
   "cell_type": "markdown",
   "metadata": {},
   "source": [
    "# <center>1.5 文件读写</center>"
   ]
  },
  {
   "cell_type": "markdown",
   "metadata": {},
   "source": [
    "Python对文件的读写，尤其是对数据文件的读写是数据分析中比较基础的操作，但是使用场景非常丰富。\n",
    "\n",
    "本节将详细介绍如何对txt，word，excel格式的文件进行文件的读写操作。"
   ]
  },
  {
   "cell_type": "markdown",
   "metadata": {},
   "source": [
    "## 1.5.1编码"
   ]
  },
  {
   "cell_type": "markdown",
   "metadata": {},
   "source": [
    "### 1. 什么是编码"
   ]
  },
  {
   "cell_type": "markdown",
   "metadata": {},
   "source": [
    "相信大家都有遇到过这样的情况：打开一个文档的时候，发现文档中的内容全部是乱码，其实这就是编码错误的问题。那编码为什么会影响文档内容的显示呢？在计算机中所有数据的原型都是 0 或 1，只有这样计算机才能正常地解读各类数据，但在日常的使用过程中，输入的都是各种字符，计算机需要把这些字符转化为0和1的语言，而这个过程就是编码。\n",
    "\n",
    "计算机编码也分为多种，例如常见的ASCII、GB2312、GBK、GB18030、Unicode、Utf-8等，接下来会做一个简单的介绍：\n"
   ]
  },
  {
   "cell_type": "markdown",
   "metadata": {},
   "source": [
    "### 2. ASCII码"
   ]
  },
  {
   "cell_type": "markdown",
   "metadata": {},
   "source": [
    "ASCII码(American Standard Code for Information Interchange)是基于罗马字母表的一套电脑编码系统，主要用于显示现代英语和其他西欧语言。它是最早的单字节编码系统，只能是用8位来表示（1个字节），最多只能表示256个符号，也就是只能包括英文大小写字母、特殊符号和阿拉伯数字。"
   ]
  },
  {
   "cell_type": "markdown",
   "metadata": {},
   "source": [
    "### 3. GB2312编码"
   ]
  },
  {
   "cell_type": "markdown",
   "metadata": {},
   "source": [
    "GB2312又称为GB2312-80字符集，由原中国国家标准总局发布，覆盖99.75%的简体中文汉字，没有覆盖到繁体中文汉字。GB2312中简体中文用16位表示（2个字节），半角下的英文字母和数字用8位表示（1个字节），全角下的英文字母和数字用16位表示（2个字节）。"
   ]
  },
  {
   "cell_type": "markdown",
   "metadata": {},
   "source": [
    "### 4. GBK编码"
   ]
  },
  {
   "cell_type": "markdown",
   "metadata": {},
   "source": [
    "GBK字节集是在GB2312的扩展版，覆盖到繁体中文字，完全兼容GB2312编码。GBK中简繁体中文用16位表示（2个字节），半角下的英文字母和数字用8位表示（1个字节），全角下的英文字母和数字用16位表示（2个字节）。"
   ]
  },
  {
   "cell_type": "markdown",
   "metadata": {},
   "source": [
    "### 5. GB18030编码"
   ]
  },
  {
   "cell_type": "markdown",
   "metadata": {},
   "source": [
    "GB18030的全称是GB18030-2000《信息交换用汉字编码字符集基本集的扩充》，是我国政府于2000年3月17日发布的新的汉字编码国家标准。GB18030是在GBK的基础上进行了扩展，该标准的字符总编码空间超过150万个编码位，收录了27484个汉字，覆盖中文、日文、朝鲜语和中国少数民族文字。"
   ]
  },
  {
   "cell_type": "markdown",
   "metadata": {},
   "source": [
    "### 6. Unicode编码"
   ]
  },
  {
   "cell_type": "markdown",
   "metadata": {},
   "source": [
    "Unicode字符集编码（Universal Multiple-Octet Coded Character Set，通用多八位编码字符集），简称为UCS，是支持世界上超过650种语言的国际字符集。Unicode字符集编码有以下两种标准：\n",
    "\n",
    "UCS-2标准：规定一个字符必须是2个字节存储，大于2个字节的，需要用UCS-4标准。\n",
    "\n",
    "UCS-4标准：规定一个字符全部用4个字节存储。"
   ]
  },
  {
   "cell_type": "markdown",
   "metadata": {},
   "source": [
    "### 7. Utf-8编码"
   ]
  },
  {
   "cell_type": "markdown",
   "metadata": {},
   "source": [
    "Utf-8是Unicode编码的压缩和优化版本，其中ASCII码中的内容在utf-8中占用1个字节保存、欧洲字符在utf-8中占用2个字节保存，东南亚字符在utf-8中占用3个字节保存，辅助平面字符则使用4字节。\n",
    "\n",
    "还有Utf-16和Utf-32编码，utf-8最少用一个字节去表示，utf-16最少用两个字节去表示。\n"
   ]
  },
  {
   "cell_type": "markdown",
   "metadata": {},
   "source": [
    "### 8. Python的默认编码及编码的转化"
   ]
  },
  {
   "cell_type": "markdown",
   "metadata": {},
   "source": [
    "Python3的默认编码方式是Unicode。\n",
    "\n",
    "虽然目前有了Unicode和Utf-8，通用性已经得到了解决，但是由于历史原因，市面上的文件和程序依然是存在着各类编码。那么，在实际应用中就涉及了编码的转化。\n",
    "\n",
    "在讲解编码的转化前，我们需要先了解一下encode与decode：decode（解码）的作用是将其他编码的字符串转换成Unicode编码，encode（编码）的作用是将Unicode编码转换成其他编码的字符串。\n",
    "\n",
    "对于编码的转化，任何转化都是以Unicode作为媒介的，要进行编码转换，都需要先用 decode方法将其转换成Unicode编码，再使用encode方法将其转换成其他编码。通常，在没有指定特定的编码方式时，都是使用的系统默认编码创建的代码文件。\n"
   ]
  },
  {
   "cell_type": "markdown",
   "metadata": {},
   "source": [
    "## 1.5.2 读取文本文件"
   ]
  },
  {
   "cell_type": "markdown",
   "metadata": {},
   "source": [
    "文件的读写有三种形式：读、写和追加。"
   ]
  },
  {
   "cell_type": "markdown",
   "metadata": {},
   "source": [
    "### 1. 读模式 r 和读写模式 r+"
   ]
  },
  {
   "cell_type": "markdown",
   "metadata": {},
   "source": [
    "#### (1)\t读模式 r"
   ]
  },
  {
   "cell_type": "markdown",
   "metadata": {},
   "source": [
    "读模式r特点：\n",
    "\n",
    "①\t只能读，不能写；\n",
    "\n",
    "②\t文件必须存在，否则会报错。"
   ]
  },
  {
   "cell_type": "code",
   "execution_count": null,
   "metadata": {},
   "outputs": [],
   "source": [
    "f = open('data/demo.txt','r',encoding='utf-8')\n",
    "contents = f.read()\n",
    "print(contents)"
   ]
  },
  {
   "cell_type": "markdown",
   "metadata": {},
   "source": [
    "解析：\n",
    "\n",
    "①如果被读取的文件在当前目录，可以直接写文件名，否则需添加路径；\n",
    "\n",
    "②open()函数：顾名思义，open函数的意思就是打开一个文件，open函数接收的参数为文件存放的路径，返回的是一个表示文件的对象。在这里，open(“demo.txt”)的意思就是返回一个文件名为“demo.txt”的对象；\n",
    "\n",
    "③ read()函数：有了表示“demo.txt”的文件对象后，我们使用方法read()读取这个文件的全部内容，并将其作为一个长长的字符串存储在变量contents中。这样，通过输入contents的值，就可将这个文本文件的全部内容显示出来；\n",
    "\n",
    "④如果不写 'r'，即写成  f = open('books.txt')，也是默认读模式；\n",
    "\n",
    "⑤有时需要添加解码格式 encoding ,格式为：\n",
    "f = open('demo.txt','r',encoding='utf-8')\n"
   ]
  },
  {
   "cell_type": "markdown",
   "metadata": {},
   "source": [
    "#### (2)\t读写模式 r+"
   ]
  },
  {
   "cell_type": "markdown",
   "metadata": {},
   "source": [
    "读写模式r+特点：\n",
    " \n",
    "①可以读，也可以写；\n",
    "\n",
    "②写的时候是覆盖写，会把文件最前面的内容覆盖；\n",
    "\n",
    "③文件必须存在，否则会报错。"
   ]
  },
  {
   "cell_type": "code",
   "execution_count": null,
   "metadata": {},
   "outputs": [],
   "source": [
    "f = open('data/demo.txt','r+',encoding='utf-8')\n",
    "f.write('郭靖')\n",
    "f.seek(0)#将文件指针移到开头，在后面部分会详细说明\n",
    "contents=f.read()\n",
    "print(contents)"
   ]
  },
  {
   "cell_type": "markdown",
   "metadata": {},
   "source": [
    "### 2. 写模式 w 和写读模式 w+"
   ]
  },
  {
   "cell_type": "markdown",
   "metadata": {},
   "source": [
    "#### (1)\t写模式"
   ]
  },
  {
   "cell_type": "markdown",
   "metadata": {},
   "source": [
    "写模式w特点：\n",
    "\n",
    "①只能写，不能读；\n",
    "\n",
    "②写的时候是覆盖写，会把原来文件的内容清空；\n",
    "\n",
    "③当文件不存在时，打开即默认创建一个新文件。\n",
    "\n",
    "例如，写入‘郭靖’时，原来的内容全部被清空："
   ]
  },
  {
   "cell_type": "code",
   "execution_count": null,
   "metadata": {},
   "outputs": [],
   "source": [
    "f=open('data/demo.txt','w',encoding='utf-8')\n",
    "f.write('郭靖')"
   ]
  },
  {
   "cell_type": "markdown",
   "metadata": {},
   "source": [
    "#### (2)\t写读模式 w+"
   ]
  },
  {
   "cell_type": "markdown",
   "metadata": {},
   "source": [
    "写读模式w+特点：\n",
    "\n",
    "①可以写，也可以读；\n",
    "\n",
    "②写的时候是覆盖写，会把原来文件的内容清空；\n",
    "\n",
    "③当文件不存在时，打开即默认创建一个新文件。"
   ]
  },
  {
   "cell_type": "markdown",
   "metadata": {},
   "source": [
    "### 3. 追加模式a和追加读模式a+"
   ]
  },
  {
   "cell_type": "markdown",
   "metadata": {},
   "source": [
    "#### (1)\t追加模式a"
   ]
  },
  {
   "cell_type": "markdown",
   "metadata": {},
   "source": [
    "追加模式a特点：\n",
    "\n",
    "①只能写，不能读；\n",
    "\n",
    "②写的时候是追加写，即在原内容末尾添加新内容；\n",
    "\n",
    "③当文件不存在时，打开即默认创建一个新文件。"
   ]
  },
  {
   "cell_type": "code",
   "execution_count": null,
   "metadata": {},
   "outputs": [],
   "source": [
    "f=open('demo.txt','a',encoding='utf-8')\n",
    "f.write('\\n黄蓉')\n",
    "#将“黄蓉”加入到文本的末尾"
   ]
  },
  {
   "cell_type": "markdown",
   "metadata": {},
   "source": [
    "#### (2)\t追加读a+模式"
   ]
  },
  {
   "cell_type": "markdown",
   "metadata": {},
   "source": [
    "追加读a+模式特点：\n",
    "\n",
    "①可以读，也可以写；\n",
    "\n",
    "②写的时候是追加写，即在原内容末尾添加新内容；\n",
    "\n",
    "③当文件不存在时，打开即默认创建一个新文件。"
   ]
  },
  {
   "cell_type": "markdown",
   "metadata": {},
   "source": [
    "上述的形态字符串都可以再加一个b字符，如rb、wb、ab，加入b 字符用来告诉函数库打开的文件为二进制文件，而非纯文字文件。"
   ]
  },
  {
   "cell_type": "markdown",
   "metadata": {},
   "source": [
    "|文件打开模式\t|对应的特点|\n",
    "| :-: | :-: |\n",
    "r\t| 只读。该文件必须已存在。\n",
    "r+\t|可读可写。该文件必须已存在，是覆盖写，会把文件最前面的内容覆盖。\n",
    "rb\t|表示以二进制方式读取文件。该文件必须已存在。\n",
    "w\t|只写。打开即默认创建一个新文件，如果文件已存在，则覆盖写。\n",
    "w+\t|写读。打开创建新文件并写入数据，如果文件已存在，则覆盖写。\n",
    "wb\t|表示以二进制写方式打开，只能写文件， 如果文件不存在，创建该文件；如果文件已存在，则覆盖写。\n",
    "a\t|追加写。若打开的是已有文件则直接对已有文件操作，若打开文件不存在则创建新文件，只能执行写（追加在后面），不能读。\n",
    "a+\t|追加读写。打开文件方式与写入方式和'a'一样，但是可以读。\n",
    "ab\t|表示以二进制方式追加写。若打开的是已有文件则直接对已有文件操作，若打开文件不存在则创建新文件，只能执行写（追加在后面），不能读。\n"
   ]
  },
  {
   "cell_type": "markdown",
   "metadata": {},
   "source": [
    "### 4. 文件指针"
   ]
  },
  {
   "cell_type": "markdown",
   "metadata": {},
   "source": [
    "文件指针是用来获取当前位于文件字符串的位置。\n",
    "\n",
    "文件指针是很重要的，我们透过以下例子能够看到，read将demo.txt的内容全部读了出来，但是readline什么都没有读出来。"
   ]
  },
  {
   "cell_type": "code",
   "execution_count": 1,
   "metadata": {},
   "outputs": [
    {
     "name": "stdout",
     "output_type": "stream",
     "text": [
      "read读取的内容: 射雕英雄传\n",
      "倚天屠龙记\n",
      "碧血剑\n",
      "Wu Xia\n",
      "readline读取的内容: \n"
     ]
    }
   ],
   "source": [
    "f=open('data/demo.txt','r',encoding='utf-8')\n",
    "print('read读取的内容:',f.read())\n",
    "print('readline读取的内容:',f.readline())"
   ]
  },
  {
   "cell_type": "markdown",
   "metadata": {},
   "source": [
    "原因就是read读完之后，文件指针此时是在文件末尾，接着readline（读取第一行内容）是从这个位置（末尾）开始读取的，所以肯定是没有内容的。因此，这时就需要对指针的位置进行调整。"
   ]
  },
  {
   "cell_type": "markdown",
   "metadata": {},
   "source": [
    "seek()函数是用来移动文件指针的，在上述例子中，加一句f.seek(0)，即可将指针移动开头，此时，readline就是从头开始进行读取了，需要注意的是，seek(num)中的num指的是字符，不是行。"
   ]
  },
  {
   "cell_type": "markdown",
   "metadata": {},
   "source": [
    "可以移动文件指针，移动后只是针对读模式，用追加模式写的时候，还是在末尾写。"
   ]
  },
  {
   "cell_type": "code",
   "execution_count": 2,
   "metadata": {},
   "outputs": [
    {
     "name": "stdout",
     "output_type": "stream",
     "text": [
      "read读取的内容: 射雕英雄传\n",
      "倚天屠龙记\n",
      "碧血剑\n",
      "Wu Xia\n",
      "readline读取的内容: 射雕英雄传\n",
      "\n"
     ]
    }
   ],
   "source": [
    "f=open('data/demo.txt','r',encoding='utf-8')\n",
    "print('read读取的内容:',f.read())\n",
    "f.seek(0)\n",
    "print('readline读取的内容:',f.readline())"
   ]
  },
  {
   "cell_type": "markdown",
   "metadata": {},
   "source": [
    "### 5.\t关闭文件"
   ]
  },
  {
   "cell_type": "markdown",
   "metadata": {},
   "source": [
    "关闭文件有两种方式：\n",
    "\n",
    "一是通过f.close来进行关闭："
   ]
  },
  {
   "cell_type": "code",
   "execution_count": null,
   "metadata": {},
   "outputs": [],
   "source": [
    "f=open('data/demo.txt','r',encoding='utf-8')\n",
    "contents=f.read()\n",
    "print(contents)\n",
    "f.close()"
   ]
  },
  {
   "cell_type": "markdown",
   "metadata": {},
   "source": [
    "二是使用with 可以自动关闭文件："
   ]
  },
  {
   "cell_type": "code",
   "execution_count": null,
   "metadata": {},
   "outputs": [],
   "source": [
    "with open('data/books.txt','r',encoding='utf-8') as f:\n",
    "    contents=f.read()\n",
    "    print(contents)"
   ]
  },
  {
   "cell_type": "markdown",
   "metadata": {},
   "source": [
    "### 6.\t其他常用操作"
   ]
  },
  {
   "cell_type": "markdown",
   "metadata": {},
   "source": [
    "|操作|描述\n",
    "| :-: | :-: |\n",
    "print(f.readline())\t|读取第一行\n",
    "print(f.readlines())\t|读取每一行，并且放到一个list里\n",
    "print(f.readline(num))|\t输出前num个字符\n",
    "print(f.tell())|\t输出当前指针位置\n",
    "print(f.encoding)|\t输出当前使用的字符编码\n",
    "print(f.name)\t|输出文件名\n",
    "print(f.flush())\t|刷新\n",
    "f.truncate()|\t清空文件\n",
    "f.truncate(num)\t|从头开始，第12个字符后截断并清除\n"
   ]
  },
  {
   "cell_type": "markdown",
   "metadata": {},
   "source": [
    "## 1.5.3 Word文件与Excel文件读取"
   ]
  },
  {
   "cell_type": "markdown",
   "metadata": {},
   "source": [
    "我们一般通过docx和excel的扩展包来实现对Word和Excel文件的读取，本节只是简单的展示一下如何通过这两种扩展包来实现文件的读取，读者如果想进一步了解相关的操作，可以去学习一下其他扩展包的使用方法，限于篇幅，这里不再展开讲解。"
   ]
  },
  {
   "cell_type": "markdown",
   "metadata": {},
   "source": [
    "### 1. 读取Word文件"
   ]
  },
  {
   "cell_type": "markdown",
   "metadata": {},
   "source": [
    "①安装Python-docx扩展包：pip install python-docx\n",
    "\n",
    "②导入docx模块并打开demo文件"
   ]
  },
  {
   "cell_type": "code",
   "execution_count": null,
   "metadata": {},
   "outputs": [],
   "source": [
    "pip install python-docx"
   ]
  },
  {
   "cell_type": "code",
   "execution_count": 3,
   "metadata": {},
   "outputs": [
    {
     "ename": "ModuleNotFoundError",
     "evalue": "No module named 'docx'",
     "output_type": "error",
     "traceback": [
      "\u001b[1;31m---------------------------------------------------------------------------\u001b[0m",
      "\u001b[1;31mModuleNotFoundError\u001b[0m                       Traceback (most recent call last)",
      "\u001b[1;32m~\\AppData\\Local\\Temp\\ipykernel_10220\\2512748279.py\u001b[0m in \u001b[0;36m<module>\u001b[1;34m\u001b[0m\n\u001b[1;32m----> 1\u001b[1;33m \u001b[1;32mfrom\u001b[0m \u001b[0mdocx\u001b[0m \u001b[1;32mimport\u001b[0m \u001b[0mDocument\u001b[0m\u001b[1;33m\u001b[0m\u001b[1;33m\u001b[0m\u001b[0m\n\u001b[0m\u001b[0;32m      2\u001b[0m \u001b[0mdocx1\u001b[0m\u001b[1;33m=\u001b[0m\u001b[0mDocument\u001b[0m\u001b[1;33m(\u001b[0m\u001b[1;34m'data/demo.docx'\u001b[0m\u001b[1;33m)\u001b[0m\u001b[1;33m\u001b[0m\u001b[1;33m\u001b[0m\u001b[0m\n\u001b[0;32m      3\u001b[0m \u001b[1;33m\u001b[0m\u001b[0m\n\u001b[0;32m      4\u001b[0m \u001b[1;31m#创建空白文档使用document = Document()\u001b[0m\u001b[1;33m\u001b[0m\u001b[1;33m\u001b[0m\u001b[0m\n",
      "\u001b[1;31mModuleNotFoundError\u001b[0m: No module named 'docx'"
     ]
    }
   ],
   "source": [
    "from docx import Document\n",
    "docx1=Document('data/demo.docx')\n",
    "\n",
    "#创建空白文档使用document = Document()"
   ]
  },
  {
   "cell_type": "code",
   "execution_count": null,
   "metadata": {},
   "outputs": [],
   "source": [
    "#进一步可以查看Documnet类中提供的属性与方法。\n",
    "dir(docx1)"
   ]
  },
  {
   "cell_type": "markdown",
   "metadata": {},
   "source": [
    "尽管比较少用python直接操作word文件，但是您如果有项目要自动生成word格式的报告，那么此处介绍的方法就可以帮助到您，生成完成的word文件，保存后可以使用word查看。"
   ]
  },
  {
   "cell_type": "markdown",
   "metadata": {},
   "source": [
    "### 2. 读取Excel文件"
   ]
  },
  {
   "cell_type": "markdown",
   "metadata": {},
   "source": [
    "①安装xlrd扩展包：pip install openpyxl\n",
    "\n",
    "②导入load_workbook模块并打开demo文件"
   ]
  },
  {
   "cell_type": "code",
   "execution_count": null,
   "metadata": {},
   "outputs": [],
   "source": [
    "pip install openpyxl"
   ]
  },
  {
   "cell_type": "code",
   "execution_count": null,
   "metadata": {},
   "outputs": [],
   "source": [
    "from openpyxl import load_workbook\n",
    "wb=load_workbook('data/demo.xlsx')\n",
    "print(wb.sheetnames)"
   ]
  },
  {
   "cell_type": "markdown",
   "metadata": {},
   "source": [
    "同样的，您可以使用python来直接操作excel文件。但是由于excel文件中基本上存放都是表格数据，所以excel文件的操作与分析主要会用到第3章要学习的pandas来解决。"
   ]
  },
  {
   "cell_type": "code",
   "execution_count": null,
   "metadata": {},
   "outputs": [],
   "source": []
  }
 ],
 "metadata": {
  "kernelspec": {
   "display_name": "Python 3 (ipykernel)",
   "language": "python",
   "name": "python3"
  },
  "language_info": {
   "codemirror_mode": {
    "name": "ipython",
    "version": 3
   },
   "file_extension": ".py",
   "mimetype": "text/x-python",
   "name": "python",
   "nbconvert_exporter": "python",
   "pygments_lexer": "ipython3",
   "version": "3.9.13"
  },
  "toc": {
   "base_numbering": 1,
   "nav_menu": {},
   "number_sections": false,
   "sideBar": true,
   "skip_h1_title": false,
   "title_cell": "Table of Contents",
   "title_sidebar": "Contents",
   "toc_cell": false,
   "toc_position": {},
   "toc_section_display": true,
   "toc_window_display": false
  }
 },
 "nbformat": 4,
 "nbformat_minor": 4
}
