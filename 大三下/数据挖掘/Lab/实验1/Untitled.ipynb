{
 "cells": [
  {
   "cell_type": "code",
   "execution_count": 3,
   "id": "5d5ce843-4dcc-425c-81bd-a06409376af8",
   "metadata": {
    "tags": []
   },
   "outputs": [
    {
     "name": "stdout",
     "output_type": "stream",
     "text": [
      "hi\n"
     ]
    }
   ],
   "source": [
    "print('hi')"
   ]
  },
  {
   "cell_type": "code",
   "execution_count": 12,
   "id": "d56fa08d-7f19-4c2f-a1ac-66d741507f23",
   "metadata": {
    "tags": []
   },
   "outputs": [],
   "source": [
    "def add(a,b):\n",
    "    res = a+b\n",
    "    return res"
   ]
  },
  {
   "cell_type": "code",
   "execution_count": 11,
   "id": "b5ad4a82-8a9b-41b0-8370-4099fc385231",
   "metadata": {
    "tags": []
   },
   "outputs": [
    {
     "data": {
      "text/plain": [
       "4"
      ]
     },
     "execution_count": 11,
     "metadata": {},
     "output_type": "execute_result"
    }
   ],
   "source": [
    "res = add(1,2)\n",
    "res += 1\n",
    "res"
   ]
  },
  {
   "cell_type": "code",
   "execution_count": 1,
   "id": "8ad6a251-8166-4e86-a03d-5f768fdf0709",
   "metadata": {},
   "outputs": [
    {
     "name": "stdout",
     "output_type": "stream",
     "text": [
      "Looking in indexes: https://pypi.tuna.tsinghua.edu.cn/simple\n",
      "Collecting jupyterlab-language-pack-zh-CN\n",
      "  Downloading https://pypi.tuna.tsinghua.edu.cn/packages/9a/c4/1a31e8da35e37fbef0dfbc7740daf065fc505c963958c1b538259b8ab884/jupyterlab_language_pack_zh_cn-4.1.post0-py2.py3-none-any.whl (193 kB)\n",
      "                                              0.0/193.0 kB ? eta -:--:--\n",
      "     ------                                  30.7/193.0 kB 1.3 MB/s eta 0:00:01\n",
      "     -------------                         71.7/193.0 kB 777.7 kB/s eta 0:00:01\n",
      "     ----------------------------           143.4/193.0 kB 1.1 MB/s eta 0:00:01\n",
      "     -------------------------------------- 193.0/193.0 kB 1.2 MB/s eta 0:00:00\n",
      "Installing collected packages: jupyterlab-language-pack-zh-CN\n",
      "Successfully installed jupyterlab-language-pack-zh-CN-4.1.post0\n",
      "Note: you may need to restart the kernel to use updated packages.\n"
     ]
    }
   ],
   "source": [
    "pip install jupyterlab-language-pack-zh-CN"
   ]
  },
  {
   "cell_type": "code",
   "execution_count": null,
   "id": "befa668d-b47a-46b2-9327-2738dadf2534",
   "metadata": {},
   "outputs": [],
   "source": []
  }
 ],
 "metadata": {
  "kernelspec": {
   "display_name": "Python 3 (ipykernel)",
   "language": "python",
   "name": "python3"
  },
  "language_info": {
   "codemirror_mode": {
    "name": "ipython",
    "version": 3
   },
   "file_extension": ".py",
   "mimetype": "text/x-python",
   "name": "python",
   "nbconvert_exporter": "python",
   "pygments_lexer": "ipython3",
   "version": "3.11.3"
  }
 },
 "nbformat": 4,
 "nbformat_minor": 5
}
