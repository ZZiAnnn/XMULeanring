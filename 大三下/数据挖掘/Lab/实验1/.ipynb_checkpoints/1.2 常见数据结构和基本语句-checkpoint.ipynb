{
 "cells": [
  {
   "cell_type": "markdown",
   "metadata": {},
   "source": [
    "# <center>1.2 常见数据结构和基本语句</center>"
   ]
  },
  {
   "cell_type": "markdown",
   "metadata": {},
   "source": [
    "Python中常见的数据结构可以统称为容器。序列（如字符串、列表、元组）、映射（如字典）以及集合（set）是Python中三类主要的容器。"
   ]
  },
  {
   "cell_type": "markdown",
   "metadata": {},
   "source": [
    "## 1.2.1 序列"
   ]
  },
  {
   "cell_type": "markdown",
   "metadata": {},
   "source": [
    " 序列为每个元素都分配一个数字，即它的位置，或称之为索引。序列的索引值由0开始，到(元素的个数-1)结束。序列包括字符串、列表和元组，其中，字符串、元组的内容是不可变的，而列表的内容是可变的。\n",
    " \n",
    " 序列有着相同的访问模式：它的每一个元素都可以通过它的索引值得到，而要想一次得到多个元素，我们可通过切片操作实现。在利用Python解决各种实际问题的过程中，经常会遇到从某个对象中抽取部分值的情况，切片操作正是专门用于完成这一操作的有力武器。理论上而言，只要条件表达式得当，可以通过单次或多次切片操作实现任意切取目标值。\n",
    "    \n",
    "切片操作的表达式为：<序列>[<起始位置> : <终止位置> : <步长>]。下文在介绍不同数据类型的序列时，将给出具体的切片例子进行分析。\n"
   ]
  },
  {
   "cell_type": "code",
   "execution_count": null,
   "metadata": {},
   "outputs": [],
   "source": [
    "a='hello,\"world\"'              #字符串\n",
    "print(a)\n",
    "b=[1,2,3,4,\"hello,world\"]      #列表\n",
    "print(b)\n",
    "c=('hello,world',2,3,4,5,6,7)  #元组\n",
    "print(c)"
   ]
  },
  {
   "cell_type": "markdown",
   "metadata": {},
   "source": [
    "### 1. 字符串"
   ]
  },
  {
   "cell_type": "markdown",
   "metadata": {},
   "source": [
    "字符串是程序中经常使用的对象。字符串的使用范围很广，包括字符串的运算，利用切片操作取一个字符串的部分字符，字符串的常用函数等。"
   ]
  },
  {
   "cell_type": "markdown",
   "metadata": {},
   "source": [
    "#### (1) 字符串连接"
   ]
  },
  {
   "cell_type": "markdown",
   "metadata": {},
   "source": [
    "Python中可使用“+”进行字符串的连接操作。在实际应用中，需要将字符串连续相加的应用场景是很少的，常用的操作是将几个字符串进行连接，当有这样的需求时，使用“+”操作符其实是最快的方式。"
   ]
  },
  {
   "cell_type": "code",
   "execution_count": null,
   "metadata": {},
   "outputs": [],
   "source": [
    "s1='pyth'\n",
    "s2='on'\n",
    "s=s1+s2 #字符串s1和s2通过“+”连接在一起，形成新的字符串s。这个操作称为字符串的连接。\n",
    "s"
   ]
  },
  {
   "cell_type": "markdown",
   "metadata": {},
   "source": [
    "#### (2) 提取部分字符串"
   ]
  },
  {
   "cell_type": "markdown",
   "metadata": {},
   "source": [
    "<字符串名>[<起始位置> : <终止位置> : <步长>]\n",
    "\n",
    "得到从<起始位置>开始，间隔<步长>，到<终止位置>前一个字符结束的字符串。<起始位置>可省略，表示从起始位置为0。<终止位置>可省略，表示终止位置为末尾。<步长>省略表示步长为1，其余步长不能省略。"
   ]
  },
  {
   "cell_type": "code",
   "execution_count": 1,
   "metadata": {},
   "outputs": [
    {
     "name": "stdout",
     "output_type": "stream",
     "text": [
      "y\n",
      "Python is \n",
      "Python is \n",
      "a convenient programming tool\n",
      "Pto s\n",
      "loot gnimmargorp tneinevnoc a si nohtyP\n",
      "39\n"
     ]
    }
   ],
   "source": [
    "s='Python is a convenient programming tool'\n",
    "print(s[1])        #索引为1的字符\n",
    "print(s[0:10])     #索引为0到10，步长为1到字符串\n",
    "print(s[:10])      #索引为0到10，步长为1的字符串\n",
    "print(s[10:])      #索引为10到结尾，步长为1的字符串\n",
    "print(s[0:10:2])   #索引为0到10，步长为2的字符串\n",
    "print(s[::-1])     #从起始位置到终止位置的字符，步长为-1\n",
    "print(len(s))      #字符串的长度\n"
   ]
  },
  {
   "cell_type": "markdown",
   "metadata": {},
   "source": [
    "子字符串的提取是基于切片思想进行的，切片思想在Python中具有十分重要的地位。在列表、元组中进行切片操作时，表达形式与上面的示例是相同的，只需将字符串名更换成列表名或者元组名"
   ]
  },
  {
   "cell_type": "markdown",
   "metadata": {},
   "source": [
    "#### (3) 常用的字符串函数"
   ]
  },
  {
   "cell_type": "markdown",
   "metadata": {},
   "source": [
    "常用的字符串操作函数及其描述如表所示，其中S为字符串。"
   ]
  },
  {
   "cell_type": "markdown",
   "metadata": {},
   "source": [
    "|字符串函数|\t描述\n",
    "| :-: | :-: |\n",
    "S.count('a')| \t返回'a'在字符串中出现的次数\n",
    "S.index('a')| \t返回S中第一个a的索引值，若不存在，则报错\n",
    "S.upper()| 将S中的字母全转换成大写字母\n",
    "S.lower()| \t将S中的字母全转换成小写字母\n",
    "S.find('a')| \t返回S中第一个a的索引值，若不存在，返回-1。\n",
    "S.rfind('a')| \t返回S中最后一个a的索引值\n",
    "S.replace('a'，'e')| \t返回'a'被'e'取代的字符串\n",
    "S.split('a')|  \t以列表的形式返回,S中的a被切割掉\n",
    "s.join(S)| \t用字符串s将字符串S中每个元素连接起来形成新的字符串\n",
    "S.strip()| \t删除字符串首尾的空白字符\n",
    "S.lstrip()| \t删除字符串首空白字符\n",
    "S.rstrip()| \t删除字符串尾空白字符\n"
   ]
  },
  {
   "cell_type": "code",
   "execution_count": null,
   "metadata": {},
   "outputs": [],
   "source": [
    "S='   Banana   a'\n",
    "s='-'\n",
    "print(S.count('a'))           #返回’a’在字符串中出现的次数\n",
    "print(S.index('a'))           #返回S中的第一个a的索引值\n",
    "print(S.upper())              #将S中的字母全部换成大写字母\n",
    "print(S.lower())              #将S中的字母全部换成小写字母\n",
    "print(S.find('a'))            #返回S中第一个a的索引值，若不存在，返回-1\n",
    "print(S.rfind('a'))           #返回S中的最后一个a的索引值\n",
    "print(S.replace('a','e'))     #返回’a’被’e’取代的字符串\n",
    "print(S.split('a'))           #以列表的形式返回[‘pl’,’y’],S=’paly’中的a被切割掉\n",
    "print(s.join(S))              #用字符串s将字符串S中每个元素链接起来形成新的字符串\n",
    "print(S.strip())              #删除字符串首尾的空白字符\n",
    "print(S.lstrip())             #删除字符串首空白字符\n",
    "print(S.rstrip())             #删除字符串尾空白字符\n"
   ]
  },
  {
   "cell_type": "markdown",
   "metadata": {},
   "source": [
    "上文的字符串操作函数为常用函数，更多的字符串函数可以在单元格中输入dir(str)，notebook将输出所有的字符串操作函数，再输入help(str.函数名)，notebook将对此函数给出详细的解释。"
   ]
  },
  {
   "cell_type": "code",
   "execution_count": null,
   "metadata": {},
   "outputs": [],
   "source": [
    "dir(str)#查找所有的字符串操作函数"
   ]
  },
  {
   "cell_type": "code",
   "execution_count": null,
   "metadata": {},
   "outputs": [],
   "source": [
    "help(str.__add__)#对某个函数给出详细的解释"
   ]
  },
  {
   "cell_type": "markdown",
   "metadata": {
    "tags": []
   },
   "source": [
    "#### (4) 字符串模块中的常量"
   ]
  },
  {
   "cell_type": "markdown",
   "metadata": {},
   "source": [
    "用import调用string库，string库中存在多个字符串常量的调用函数，常用的字符串模块中的常量及其描述如表所示："
   ]
  },
  {
   "cell_type": "markdown",
   "metadata": {},
   "source": [
    "|字符串模块中的常量|\t描述|\t字符串模块中的常量\t|描述\n",
    "| :-: | :-: | :-: | :-: |\n",
    "string.digits|\t返回数字0~9\t|string.punctuation|\t返回所有标点\n",
    "string.letters\t|返回所有字母，包含大小写|\tstring.uppercase|\t返回所有大写字母\n",
    "string.printable|\t返回可打印字符的字符串|\tstring.lowercase|\t返回所有小写字母\n"
   ]
  },
  {
   "cell_type": "code",
   "execution_count": null,
   "metadata": {},
   "outputs": [],
   "source": [
    "import string\n",
    "print(string.digits)                 #数字0-9\n",
    "print(string.ascii_letters)          #所有字母（大小写）\n",
    "print(string.ascii_uppercase)        #所有大写字母\n",
    "print(string.ascii_lowercase)        #所有小写字母\n",
    "print(string.printable)              #可打印字符的字符串\n",
    "print(string.punctuation)            #所有标点"
   ]
  },
  {
   "cell_type": "markdown",
   "metadata": {},
   "source": [
    "### 2. 列表"
   ]
  },
  {
   "cell_type": "markdown",
   "metadata": {},
   "source": [
    "列表是Python中最基本的数据结构，是对象的有序集合，列表中内容是可以修改的，其长度也是可变的。\n",
    "\n",
    "列表的定义：\n",
    "     <列表名称>[<列表项>]\n",
    "     \n",
    "其中多个列表项用逗号隔开，它们的类型可以相同，也可以不同，还可以是其它列表。\n",
    "\n",
    "例如：\n",
    "\n",
    "    date=[2019， 11， 25， 10， 59]\n",
    "    day=['sun'，'mon'，'tue'，'wed'，'thi'，'fri'，'sat']\n",
    "    today=[2019，11，25，”Mon”]\n",
    "    data=[date，day]\n",
    "以上几个列表均是合法的列表。使用时，通过<列表名>[索引号]的形式提取出单个或者多个元素，索引号从0开始，即0是第1项的索引号。例如date[0]的值是2019，day[1]得到”mon”，data[1][3]的到”wed”。\n"
   ]
  },
  {
   "cell_type": "code",
   "execution_count": null,
   "metadata": {},
   "outputs": [],
   "source": [
    "#列表的定义：<列表名称>[<列表项>]\n",
    "date=[2019,11,25,10,59]\n",
    "day=['sun','mon','tue','wed','thi','fri','sat']\n",
    "today=[2019,11,25,'sun']\n",
    "data=[date,day]\n",
    "print(date[0])\n",
    "print(day[1])\n",
    "print(data)\n",
    "print(data[1][3])           #输出date中索引为1的day中索引为3的值\n"
   ]
  },
  {
   "cell_type": "markdown",
   "metadata": {},
   "source": [
    "#### (1)\t创建一个列表"
   ]
  },
  {
   "cell_type": "markdown",
   "metadata": {},
   "source": [
    "创建列表即把用逗号分隔的不同的数据项使用方括号括起来。如下所示：  \n",
    "\n",
    "    list1 = [‘Python’，‘PyTorch’‘TensorFlow’, 2020]\n",
    "    list2 = [1， 2， 3， 4， 5， 6， 7 ]\n",
    "    list3 = [‘a’，‘b’，‘c’，‘d’]\n",
    "与字符串的索引一样，列表索引从0开始。\n"
   ]
  },
  {
   "cell_type": "markdown",
   "metadata": {},
   "source": [
    "#### (2)\t访问列表中的值"
   ]
  },
  {
   "cell_type": "code",
   "execution_count": null,
   "metadata": {},
   "outputs": [],
   "source": [
    "#通过使用索引来访问列表中的值\n",
    "list1=['python','tensorflow',2019,2020]\n",
    "list2=[1,2,3,4,5,6,7,]\n",
    "list3=['a','b','c','d']\n",
    "#访问列表中的值：通过索引来访问\n",
    "print('list1[0]:',list1[0])\n",
    "print('list2[1:5]:',list2[1:5])\n"
   ]
  },
  {
   "cell_type": "markdown",
   "metadata": {},
   "source": [
    "#### (3)\t更新列表"
   ]
  },
  {
   "cell_type": "code",
   "execution_count": null,
   "metadata": {},
   "outputs": [],
   "source": [
    "#更新列表：对列表的数据项目进行修改或更新\n",
    "list=['python','tensorflow',2019,2020]\n",
    "print('list中索引值为2的值:',list[2])\n",
    "list[2]=2018 #直接改变列表位置上的值\n",
    "print('list中索引值为2的修改值',list[2])"
   ]
  },
  {
   "cell_type": "markdown",
   "metadata": {},
   "source": [
    "#### (4)\t删除列表元素"
   ]
  },
  {
   "cell_type": "markdown",
   "metadata": {},
   "source": [
    "可以使用 del 语句来直接删除列表的元素。"
   ]
  },
  {
   "cell_type": "code",
   "execution_count": null,
   "metadata": {},
   "outputs": [],
   "source": [
    "#删除列表元素\n",
    "list=['python','tensorflow',2019,2020]\n",
    "del list[2]\n",
    "print('删除索引值为2的值后的列表为：',list)\n"
   ]
  },
  {
   "cell_type": "markdown",
   "metadata": {},
   "source": [
    "#### (5)\tPython列表的基本操作符"
   ]
  },
  {
   "cell_type": "markdown",
   "metadata": {},
   "source": [
    "|Python表达式|结果\t|描述\n",
    "| :-: | :-: | :-: |\n",
    "len([1， 2， 3])|\t3\t|长度\n",
    "[1， 2， 3] + [4， 5， 6]\t|[1， 2， 3， 4， 5， 6]\t|组合\n",
    "['Hi!'] * 4\t|['Hi!'， 'Hi!'， 'Hi!'， 'Hi!']\t|重复\n",
    "3 in [1， 2， 3]|\tTrue\t|元素是否存在于列表中\n"
   ]
  },
  {
   "cell_type": "markdown",
   "metadata": {},
   "source": [
    "#### (6)\tPython列表截取"
   ]
  },
  {
   "cell_type": "markdown",
   "metadata": {},
   "source": [
    "Python的列表截取与字符串操作类型相似，如表所示。\n",
    "\n",
    "列表为：L = ['a'， 'b'， 'c']，进行截取操作："
   ]
  },
  {
   "cell_type": "markdown",
   "metadata": {},
   "source": [
    "|Python 表达式|\t结果\t|描述\n",
    "| :-: | :-: | :-: |\n",
    "L[2]|\t'c'\t|读取列表中第三个元素\n",
    "L[-2]|\t'b'|\t读取列表中倒数第二个元素\n",
    "L[1:]\t|['b'， 'c']\t|从第二个元素开始截取列表\n"
   ]
  },
  {
   "cell_type": "markdown",
   "metadata": {},
   "source": [
    "#### (7)\tPython列表操作的函数和方法"
   ]
  },
  {
   "cell_type": "markdown",
   "metadata": {},
   "source": [
    "列表操作包含以下函数"
   ]
  },
  {
   "cell_type": "markdown",
   "metadata": {},
   "source": [
    "|函数名\t|描述\t|函数名|\t描述\n",
    "| :-: | :-: | :-: | :-: |\n",
    "len(list)|\t列表元素个数|\tmin(list)\t|返回列表元素最小值\n",
    "max(list)\t|返回列表元素最大值\t|list(seq)|\t将元组转换为列表\n"
   ]
  },
  {
   "cell_type": "markdown",
   "metadata": {},
   "source": [
    "列表操作包含以下方法"
   ]
  },
  {
   "cell_type": "markdown",
   "metadata": {},
   "source": [
    "|列表操作方法|\t描述\n",
    "| :-: | :-: |\n",
    "list.append(obj)|\t在列表末尾添加新的对象\n",
    "list.count(obj)\t|统计某个元素在列表中出现的次数\n",
    "list.extend(seq)\t|在列表末尾一次性追加另一个序列中的多个值（用新列表扩展原来的列表）\n",
    "list.index(obj)\t|从列表中找出某个值第一个匹配项的索引位置\n",
    "list.insert(index， obj)|\t将对象插入列表\n",
    "list.pop(obj=list[-1])|\t移除列表中的一个元素（默认最后一个元素），并且返回该元素的值\n",
    "list.remove(obj)|\t移除列表中某个值的第一个匹配项\n",
    "list.reverse()|\t反向列表中元素\n",
    "list.sort([func])|\t对原列表进行排序\n"
   ]
  },
  {
   "cell_type": "code",
   "execution_count": null,
   "metadata": {},
   "outputs": [],
   "source": [
    "garden=['Bird of Paradise','rose','tulip','lotus','olive','Sunflower']\n",
    "print('Number of flowers in the garden is',len(garden))\n",
    "i=2\n",
    "print('flower',i,'is',garden[i-1])\n",
    "garden.extend(['Phlox','Peach Blossom'])\n",
    "print(garden)\n",
    "i=7\n",
    "print('flower',i,'in garden is',garden[i-1])\n"
   ]
  },
  {
   "cell_type": "markdown",
   "metadata": {},
   "source": [
    "### 3. 元组"
   ]
  },
  {
   "cell_type": "markdown",
   "metadata": {},
   "source": [
    "元组和列表十分类似，区别在于元组的内容是不可修改的，而用户可以对列表中的元素进行修改。"
   ]
  },
  {
   "cell_type": "markdown",
   "metadata": {},
   "source": [
    "元组数据也可以进行诸多运算"
   ]
  },
  {
   "cell_type": "markdown",
   "metadata": {},
   "source": [
    "|运算格式/举例\t|说明/结果\t|运算格式/举例\t|说明/结果\n",
    "| :-: | :-: | :-: | :-: |\n",
    "T1()\t|空元组|\tLen(T3)\t|求元组的长度\n",
    "T2=(2019，)|\t有一项的元组\t|T3+T4\t|合并\n",
    "T3=(2019， 2， 9， 19， 54)|\t5项，整数元组，索引号0-4\t|T3*3\t|重复，T3重复3次\n",
    "T4= ('sun'，('mon'，'tue'，'wed'))\t|2项，嵌套的元组\t|for x in T3\t|循环，x取T3中的每个成员执行循环体\n",
    "T3[i]，T4[i][j]\t|索引，T3[1]的值为2，T4[1][1]的值为'tue'\t|19 in T3\t|19是否是T3的成员\n",
    "T3[i:j]\t|切片，取i到j-1的项\t\t\n"
   ]
  },
  {
   "cell_type": "code",
   "execution_count": null,
   "metadata": {
    "tags": []
   },
   "outputs": [],
   "source": [
    "T3=(2019, 2, 9, 19, 54)\n",
    "19 in T3\n",
    "print(T3[1:4])\n",
    "T5=T3*3\n",
    "print(T5[4:9])"
   ]
  },
  {
   "cell_type": "markdown",
   "metadata": {},
   "source": [
    "## 1.2.2 字典（dict）"
   ]
  },
  {
   "cell_type": "markdown",
   "metadata": {},
   "source": [
    "字典是无序对象的集合，通过键值对进行操作。类似于通讯录，通过姓名来查找电话、地址等信息，其中姓名就是键，而电话、地址就是姓名对应的值。但与通讯录不同，字典中要求一定要没有同名的人，即键不能重复。\n",
    "\n",
    "字典的定义为：\n",
    "\n",
    "    <字典名>={键1:值2，键2:值2，键3:值3，…}\n",
    "\n",
    "其中，键1，键2，键3各不相同且必须是独一无二的，而值可以是包括元组和列表的任何类型的数据。字典定义中使用的是大括号，键值对通过逗号隔开，键和值之间用冒号隔开。注意：字典中的键只能执行增加和删除操作，不能对其修改，而字典中的值可以进行修改。\n"
   ]
  },
  {
   "cell_type": "markdown",
   "metadata": {},
   "source": [
    "字典的常用操作方法"
   ]
  },
  {
   "cell_type": "markdown",
   "metadata": {},
   "source": [
    "|运算格式/举例|\t说明/结果\n",
    "| :-: | :-: |\n",
    "d1={}|\t创建名为d1的空字典\n",
    "d2={'class':'jianhuan'，'year':'2011'}\t|创建包含两项的名为d2的字典\n",
    "d3={'xjtu':{'class':'huagong'，'year':'2011'}}|\t字典的嵌套\n",
    "d2['class']， d3['xjtu']['class']|\t按照键访问字典的值\n",
    "d2.keys()\t|获得字典d2键的列表\n",
    "d2.values()\t|获得字典d2值的列表\n",
    "len(d2)\t|求字典d2的长度\n",
    "d2['year']=2020\t|改变字典d2中'year'键的值\n",
    "del d2['year']\t|删除字典d2中的'year'键\n"
   ]
  },
  {
   "cell_type": "markdown",
   "metadata": {},
   "source": [
    "### 1.\t创建字典"
   ]
  },
  {
   "cell_type": "code",
   "execution_count": null,
   "metadata": {},
   "outputs": [],
   "source": [
    "dict1={'Name':'Wang','Age':10,'class':'old'} #创建包含三项的名为dict1的字典\n",
    "dict1"
   ]
  },
  {
   "cell_type": "markdown",
   "metadata": {},
   "source": [
    "### 2.\t增加键值对"
   ]
  },
  {
   "cell_type": "markdown",
   "metadata": {},
   "source": [
    "给刚刚创建的字典中增加一个新的键值对，用“字典名[键] = 值”的语句即可"
   ]
  },
  {
   "cell_type": "code",
   "execution_count": null,
   "metadata": {},
   "outputs": [],
   "source": [
    "dict1['grade']=95\n",
    "dict1"
   ]
  },
  {
   "cell_type": "markdown",
   "metadata": {},
   "source": [
    "### 3.\t访问字典的值"
   ]
  },
  {
   "cell_type": "markdown",
   "metadata": {},
   "source": [
    "要访问字典中键对应的值，使用“字典名[键]”即可"
   ]
  },
  {
   "cell_type": "code",
   "execution_count": null,
   "metadata": {},
   "outputs": [],
   "source": [
    "dict={'Name':'Wang','Age':50,'Class':'old'}\n",
    "print(\"dict['Name']:\",dict['Name'])\n",
    "print(\"dict['Age']:\",dict['Age'])\n"
   ]
  },
  {
   "cell_type": "markdown",
   "metadata": {},
   "source": [
    "如果用字典里没有的键访问，会提示错误"
   ]
  },
  {
   "cell_type": "code",
   "execution_count": null,
   "metadata": {},
   "outputs": [],
   "source": [
    "dict={'Name':'Wang','Age':50,'Class':'old'}\n",
    "print(\"dict['Li']:\",dict['Li'])"
   ]
  },
  {
   "cell_type": "markdown",
   "metadata": {},
   "source": [
    "### 4.\t修改字典"
   ]
  },
  {
   "cell_type": "markdown",
   "metadata": {},
   "source": [
    "前文提到字典中的键是不能修改的，但值是可以修改的，使用“字典名[键] = 修改值”即可"
   ]
  },
  {
   "cell_type": "code",
   "execution_count": null,
   "metadata": {},
   "outputs": [],
   "source": [
    "dict1['grade']=100\n",
    "dict1"
   ]
  },
  {
   "cell_type": "markdown",
   "metadata": {},
   "source": [
    "### 5.\t删除字典元素"
   ]
  },
  {
   "cell_type": "markdown",
   "metadata": {},
   "source": [
    "删除字典元素可以选择删除某一键值对，也可以清空整个字典。删除某一键值对使用“del 字典名[键]”即可，若要清空整个字典可以使用“del 字典名”或者字典名.clear()语句。示例代码如下："
   ]
  },
  {
   "cell_type": "code",
   "execution_count": null,
   "metadata": {},
   "outputs": [],
   "source": [
    "dict={'Name':'wang','Age':50,'Class':'old'}\n",
    "del dict['Name']    #删除键是'Name'的键值对\n",
    "print(dict)"
   ]
  },
  {
   "cell_type": "code",
   "execution_count": null,
   "metadata": {},
   "outputs": [],
   "source": [
    "dict={'Name':'Wang','Age':50,'Class':'old'}\n",
    "dict.clear()       #清空词典所有条目\n",
    "print(dict)"
   ]
  },
  {
   "cell_type": "code",
   "execution_count": null,
   "metadata": {},
   "outputs": [],
   "source": [
    "dict={'Name':'Wang','Age':50,'Class':'old'}\n",
    "del dict\n",
    "print(dict)"
   ]
  },
  {
   "cell_type": "markdown",
   "metadata": {},
   "source": [
    "当我们使用del语句删除字典时，实际上是在内存中删除整个字典对象，并且该字典将不再存在于程序中。而使用clear()方法则只是删除字典中的所有键值对，而不删除字典对象本身。\n",
    "\n",
    "因此，在需要将同一字典再次使用时，使用clear()方法可以保留字典对象本身，而使用del语句则会将字典对象删除，需要重新创建字典。"
   ]
  },
  {
   "cell_type": "markdown",
   "metadata": {},
   "source": [
    "### 6.\t字典键的特性"
   ]
  },
  {
   "cell_type": "markdown",
   "metadata": {},
   "source": [
    "字典值可以取出用户想要的任何Python对象，既可以是标准的对象，也可以是用户自定义的对象，但键在取值时有以下约束条件：\n",
    "\n",
    "①不允许同一个键出现两次。创建时如果同一个键被赋值两次，系统会默认指定最后一个值，示例代码如下："
   ]
  },
  {
   "cell_type": "code",
   "execution_count": null,
   "metadata": {},
   "outputs": [],
   "source": [
    "dict={'Name':'wang','Age':50,'Name':'Li'}\n",
    "print(\"dict['Name']:\",dict['Name'])\n"
   ]
  },
  {
   "cell_type": "markdown",
   "metadata": {},
   "source": [
    "②键必须不可变，键可以用数、字符串或元组充当，但是不可以用列表，示例代码如下："
   ]
  },
  {
   "cell_type": "code",
   "execution_count": null,
   "metadata": {},
   "outputs": [],
   "source": [
    "dict={['Name']:'wang','Age':50}\n",
    "print(\"dict['Name']:\",dict['Name'])"
   ]
  },
  {
   "cell_type": "markdown",
   "metadata": {},
   "source": [
    "### 7.\t字典内置函数和方法"
   ]
  },
  {
   "cell_type": "markdown",
   "metadata": {},
   "source": [
    "Python字典包含了以下内置函数"
   ]
  },
  {
   "cell_type": "markdown",
   "metadata": {},
   "source": [
    "|字典内置函数|\t描述\n",
    "| :-: | :-: | \n",
    "len(D)|\t计算字典D元素个数，即键的总数\n",
    "str(D)\t|输出字典D可打印的字符串表示\n",
    "type(D)\t|返回输入的变量类型，如果变量是字典就返回字典类型\n"
   ]
  },
  {
   "cell_type": "markdown",
   "metadata": {},
   "source": [
    "Python字典包含了以下内置方法"
   ]
  },
  {
   "cell_type": "markdown",
   "metadata": {},
   "source": [
    "|字典内置方法|\t描述\n",
    "| :-: | :-: | \n",
    "D.clear()|\t删除字典D内所有元素\n",
    "D.copy()\t|返回一个字典D的浅复制\n",
    "D.fromkeys(seq,[value])\t|创建一个新字典，以序列seq中元素做字典的键，value为字典所有键对应的初始值\n",
    "D.get(key， default)\t|返回指定键的值，若值不在字典返回default值\n",
    "D.items()|\t以列表返回可遍历的(键， 值) 元组数组\n",
    "D.keys()|\t以列表返回一个字典所有的键\n",
    "D.setdefault(key，default=None)\t|和get()类似， 但如果键不已经存在于字典中，将会添加键并将值设为default\n",
    "D.update(dict2)\t|把字典dict2的键/值对更新到dict里\n",
    "D.values()\t|以列表返回字典中的所有值\n",
    "D.pop(key，default)|\t删除字典给定key所对应的值，返回被删除值，否则返回default值\n"
   ]
  },
  {
   "cell_type": "markdown",
   "metadata": {},
   "source": [
    "### 8.\t字典(dict)的特点"
   ]
  },
  {
   "cell_type": "markdown",
   "metadata": {},
   "source": [
    "字典的特点在于使用键-值（key-value）存储，具有极快的查找速度。"
   ]
  },
  {
   "cell_type": "markdown",
   "metadata": {},
   "source": [
    "给定一个名字，要查找对应的成绩，就先要在names中找到对应的位置，再从scores取出对应的成绩，list越长，耗时越长。"
   ]
  },
  {
   "cell_type": "code",
   "execution_count": null,
   "metadata": {},
   "outputs": [],
   "source": [
    "#假设要根据同学的名字查找对应的成绩，如果用list实现，需要两个list\n",
    "names=['Machael','Bob','Tracy']\n",
    "scores=[95,75,85]\n",
    "print(scores[names.index('Bob')])   #给出Bob的成绩"
   ]
  },
  {
   "cell_type": "markdown",
   "metadata": {},
   "source": [
    "如果用dict实现，只需要一个”名字”-”成绩”的对照表，直接根据名字查找成绩，无论这个表有多大，查找速度相比列表而言会快很多。"
   ]
  },
  {
   "cell_type": "code",
   "execution_count": null,
   "metadata": {},
   "outputs": [],
   "source": [
    "d={'Micheal':95,'Bob':75,'Tracy':85}\n",
    "d['Bob']\n"
   ]
  },
  {
   "cell_type": "markdown",
   "metadata": {},
   "source": [
    "为什么dict查找速度会比列表快很多？想象一下小学时候查字典，假设字典包含了1万个汉字，我们要查某一个字，一种办法是把字典从第一页往后翻，直到找到我们想要的字为止，这种方法就是在list中查找元素的方法，字典越大我们找到想要找的那个字就会越慢。\n",
    "\n",
    "第二种方法是先在字典的索引表里（比如部首表）查这个字对应的页码，然后直接翻到该页，找到这个字，无论找哪个字，这种查找速度都非常快，不会随着字典大小的增加而变慢。这种方法就是dict的实现方式，给定一个名字，比如'Tracy'，dict在内部就可以直接计算出Tracy对应的存放成绩的”页码”，也就是85这个数字存放的内存地址，直接取出来，所以速度非常快。这种key-value存储方式，在放进去的时候，必须根据key算出value的存放位置，这样，取的时候才能根据key直接拿到value。\n"
   ]
  },
  {
   "cell_type": "code",
   "execution_count": null,
   "metadata": {},
   "outputs": [],
   "source": [
    "#把数据放入dict的方法，除了初始化时指定外，还可以通过key放入\n",
    "d={'Micheal':95,'Bob':75,'Tracy':85}\n",
    "d['Adam']=67\n",
    "d"
   ]
  },
  {
   "cell_type": "code",
   "execution_count": null,
   "metadata": {},
   "outputs": [],
   "source": [
    "#由于一个key只能对应一个value，所以，多次对一个key放入value，后面的值会把前面的值冲掉\n",
    "d={'Micheal':95,'Bob':75,'Tracy':85}\n",
    "d['Adam']=45\n",
    "d['Adam']=90\n",
    "d"
   ]
  },
  {
   "cell_type": "code",
   "execution_count": null,
   "metadata": {},
   "outputs": [],
   "source": [
    "#如果key不存在，dict就会报错\n",
    "d['Thomas']"
   ]
  },
  {
   "cell_type": "markdown",
   "metadata": {},
   "source": [
    "要避免key不存在的错误，有两种办法：\n",
    "\n",
    "方法1：通过in判断key是否存在。"
   ]
  },
  {
   "cell_type": "code",
   "execution_count": null,
   "metadata": {},
   "outputs": [],
   "source": [
    "'Thomas' in d"
   ]
  },
  {
   "cell_type": "markdown",
   "metadata": {},
   "source": [
    "方法2：通过dict提供的get()方法，如果key不存在，可以返回None，或者自己指定的value。\n"
   ]
  },
  {
   "cell_type": "code",
   "execution_count": null,
   "metadata": {},
   "outputs": [],
   "source": [
    "d.get('Thomas',-1)"
   ]
  },
  {
   "cell_type": "markdown",
   "metadata": {},
   "source": [
    "要删除一个key，用pop(key)方法，对应的value也会从dict中删除"
   ]
  },
  {
   "cell_type": "code",
   "execution_count": null,
   "metadata": {
    "scrolled": true
   },
   "outputs": [],
   "source": [
    "d={'Micheal':95,'Bob':75,'Tracy':85}\n",
    "print(d.pop('Bob'))\n",
    "print(d)"
   ]
  },
  {
   "cell_type": "markdown",
   "metadata": {},
   "source": [
    "## 1.2.3\t集合(set)"
   ]
  },
  {
   "cell_type": "markdown",
   "metadata": {},
   "source": [
    "Python中集合set是一个无序不重复元素集，它不支持索引、切片或其它类序列的操作。集合具有四种基础运算方法：并、交、差、补；以及有两种关系运算操作：判断子集关系和包含关系。\n",
    "\n",
    "字典dict和集合set非常相似，唯一区别仅在于集合没有存储对应的值。"
   ]
  },
  {
   "cell_type": "markdown",
   "metadata": {},
   "source": [
    "### 1.\t创建集合"
   ]
  },
  {
   "cell_type": "code",
   "execution_count": null,
   "metadata": {},
   "outputs": [],
   "source": [
    "#可以传入一个列表list或者字符串到set()中\n",
    "s=set([1,2,3])\n",
    "print(s)"
   ]
  },
  {
   "cell_type": "markdown",
   "metadata": {},
   "source": [
    "传入的参数[1， 2， 3]是一个list，而显示的{1，2，3}只是告诉你这个set内部有1，2，3这3个元素。"
   ]
  },
  {
   "cell_type": "code",
   "execution_count": null,
   "metadata": {},
   "outputs": [],
   "source": [
    "#重复元素在set中自动被过滤\n",
    "s=set([1,1,2,3,3,3])\n",
    "print(s)"
   ]
  },
  {
   "cell_type": "markdown",
   "metadata": {},
   "source": [
    "### 2.\t集合的内置方法"
   ]
  },
  {
   "cell_type": "markdown",
   "metadata": {},
   "source": [
    "和字典相似，集合中也内置了多种方法"
   ]
  },
  {
   "cell_type": "markdown",
   "metadata": {},
   "source": [
    "|集合内置方法|\t描述\n",
    "| :-: | :-: | \n",
    "S.add(a)\t| 在集合中添加一个新的元素a；如果元素已经存在，则不添加\n",
    "S.remove(a)\t| 从集合中删除一个元素a，如果元素不存在于集合中，则会产生一个KeyError错误\n",
    "S.discard(a)\t| 从集合S中移除一个元素a;\n",
    "S.clear()\t| 清空集合内的所有元素\n",
    "S.copy()\t| 将集合进行一次浅拷贝\n",
    "S.pop()\t| 从集合S中删除一个随机元素;如果此集合为空，则引发KeyError异常\n",
    "S.update(s1)| \t用集合S与s1得到的全集更新变量S\n"
   ]
  },
  {
   "cell_type": "code",
   "execution_count": 2,
   "metadata": {
    "tags": []
   },
   "outputs": [
    {
     "name": "stdout",
     "output_type": "stream",
     "text": [
      "{1, 2, 3, 7}\n",
      "{1, 3, 7}\n",
      "{1, 3, 4, 5, 6, 7}\n"
     ]
    }
   ],
   "source": [
    "s1=set([1,2,3])\n",
    "s2=set([4,5,6])\n",
    "s1.add(7)\n",
    "print(s1)\n",
    "s1.remove(2)\n",
    "print(s1)\n",
    "s2.update(s1)\n",
    "print(s2)"
   ]
  },
  {
   "cell_type": "markdown",
   "metadata": {},
   "source": [
    "### 3.\t集合的四种基础运算方法"
   ]
  },
  {
   "cell_type": "markdown",
   "metadata": {},
   "source": [
    "集合有四种基础运算方法：并、交、差、补。"
   ]
  },
  {
   "cell_type": "markdown",
   "metadata": {},
   "source": [
    "|基础运算方式（A、B为两个集合）|\t描述\n",
    "| :-: | :-: |\n",
    "并运算：A&#124;B \t|返回一个新集合，包含在集合A和B中的所有元素\n",
    "差运算：A-B\t|返回一个新的集合，包含在集合A中但是不在集合B中的元素\n",
    "交运算：A&B\t|返回一个新集合，包含既在A中又在B中的集合\n",
    "补运算：A^B |\t返回一个新集合，包含集合A和B中的不相同元素\n"
   ]
  },
  {
   "cell_type": "code",
   "execution_count": null,
   "metadata": {},
   "outputs": [],
   "source": [
    "A={1,2,3,4}\n",
    "B={2,3,4,5}\n",
    "A|B"
   ]
  },
  {
   "cell_type": "code",
   "execution_count": null,
   "metadata": {},
   "outputs": [],
   "source": [
    "A-B"
   ]
  },
  {
   "cell_type": "code",
   "execution_count": null,
   "metadata": {},
   "outputs": [],
   "source": [
    "A&B"
   ]
  },
  {
   "cell_type": "code",
   "execution_count": null,
   "metadata": {},
   "outputs": [],
   "source": [
    "A^B        #等价于(A|B)-(A&B)"
   ]
  },
  {
   "cell_type": "markdown",
   "metadata": {},
   "source": [
    "### 4.\t集合的关系运算操作"
   ]
  },
  {
   "cell_type": "markdown",
   "metadata": {},
   "source": [
    "集合有两种关系运算操作：判断集合之间的子集关系以及判断集合之间的包含关系。\n",
    "\n",
    "集合A和B:\n",
    "\n",
    "输入A<=B或者A<B，返回True/False来判断A是否是B的子集。\n",
    "\n",
    "输入A>=B或者A>B，返回True/False判断A是否包含B。\n"
   ]
  },
  {
   "cell_type": "code",
   "execution_count": null,
   "metadata": {},
   "outputs": [],
   "source": [
    "A={1,2,3,4,5,6,7}\n",
    "B={2,3,4,5}"
   ]
  },
  {
   "cell_type": "code",
   "execution_count": null,
   "metadata": {},
   "outputs": [],
   "source": [
    "A>B"
   ]
  },
  {
   "cell_type": "code",
   "execution_count": null,
   "metadata": {},
   "outputs": [],
   "source": [
    "A<B"
   ]
  },
  {
   "cell_type": "markdown",
   "metadata": {},
   "source": [
    "由集合性质可知，B是A的子集，故输入A>B时，返回True。输入A<B时，返回False。"
   ]
  },
  {
   "cell_type": "markdown",
   "metadata": {},
   "source": [
    "## 1.2.4\t基本语句"
   ]
  },
  {
   "cell_type": "markdown",
   "metadata": {},
   "source": [
    "基本语句是告诉计算机做某些事情的指令，例如改变变量、向屏幕打印内容、引导用户输入等其他大量复杂的操作。\n",
    "\n",
    "Python基本语句包含了顺序结构、选择结构和循环结构。顺序结构即按照书写顺序依次执行。但是，有时候我们需要根据特定的情况，有选择地执行某些语句，此时我们就需要一种选择结构的语句。另外，有时候我们还可以在给定条件下往复执行某些语句，这时我们称这些语句是循环结构。有了这三种基本的结构，我们就能够构建任意复杂的程序了。下面将主要介绍了Python的一些入门语句，主要包括if条件语句、while循环语句、for循环语句的使用。\n"
   ]
  },
  {
   "cell_type": "markdown",
   "metadata": {},
   "source": [
    "### 1.\tif条件语句"
   ]
  },
  {
   "cell_type": "markdown",
   "metadata": {},
   "source": [
    "Python的if语句是用来判定给出的条件是否满足，然后根据判断的结果决定是否执行后续的代码。if语句由三部分组成：关键字if本身、测试条件真假的表达式（简称为条件表达式）和表达式结果为真（即表达式的值为非零）时要执行的代码。语法形式如下所示：if语句用来检验一个条件， 如果<条件>为真，if块的代码会成功运行，否则将会运行else块中的代码。其中else 从句是可选的。"
   ]
  },
  {
   "cell_type": "code",
   "execution_count": null,
   "metadata": {},
   "outputs": [],
   "source": [
    "if<条件>:\n",
    "    <if块>\n",
    "else：\n",
    "    <else块>\n"
   ]
  },
  {
   "cell_type": "markdown",
   "metadata": {},
   "source": [
    "在语法格式中的if块和else块中，既可以包含多条语句，也可以只有一条语句组成，但是语句体由多条语句组成时，要有统一的缩进形式，否则就会出现逻辑错误，即语法检查没错，但是结果却非预期。示例代码如下："
   ]
  },
  {
   "cell_type": "code",
   "execution_count": null,
   "metadata": {},
   "outputs": [],
   "source": [
    "#示例A\n",
    "i=1\n",
    "if i<2:\n",
    "    i=i+1\n",
    "    if i<2:\n",
    "        i+i+1\n",
    "    print(i)\n"
   ]
  },
  {
   "cell_type": "code",
   "execution_count": null,
   "metadata": {},
   "outputs": [],
   "source": [
    "#示例B\n",
    "i=1\n",
    "if i<2:\n",
    "    i=i+1\n",
    "    if i<2:\n",
    "        i+i+1\n",
    "        print(i)"
   ]
  },
  {
   "cell_type": "markdown",
   "metadata": {},
   "source": [
    "上述代码中，print(i)的缩进不同导致了打印输出结果的不同。示例A中的print(i)的缩进与第二个if并列，位于第一个if的语句块内，执行完第二个if语句块后，i<2的条件测试不通过后续语句i=i+1没有执行，但仍输出了先前的i值。示例B中的print(i)位于第二个if的语句块内，打印的是第二个if代码执行后的结果，但因为i<2条件测试不通过因此后续代码没有执行程序直接返回了空值。\n",
    "\n",
    "另外，经常会遇到需要检查两个以上条件的情形，对此可使用Python提供的if-elif-else语句。Python最终只会执行if-elif-else中的一个语句体，在执行代码时，它会依次检查每个条件测试，直到找到通过测试的条件，之后程序会执行紧接着条件后面的语句体并跳过后面后续的条件测试。elif代码块可以根据情况同时使用多个。示例代码如下：\n"
   ]
  },
  {
   "cell_type": "code",
   "execution_count": null,
   "metadata": {},
   "outputs": [],
   "source": [
    "ticket=0\n",
    "age=10\n",
    "if age<6:\n",
    "    ticket=0\n",
    "elif age<18:\n",
    "    ticket=30\n",
    "elif age<60:\n",
    "    ticket=60\n",
    "else:\n",
    "    ticket=10\n",
    "print('门票价格为'+str(ticket)+'元')\n"
   ]
  },
  {
   "cell_type": "markdown",
   "metadata": {},
   "source": [
    "上述代码以公园针对不同年龄段游客销售不同售价为例，6岁以下儿童免费，6岁以上18岁以下的未成年儿童收取半价30元，18岁以上60岁以下的成年人收取全价60元。60岁以上老人收取10元。程序依次判断每个elif条件，直到找到找到符合age<18的条件后结束后续条件测试并将票价30赋值给ticket。"
   ]
  },
  {
   "cell_type": "markdown",
   "metadata": {},
   "source": [
    "### 2.\twhile循环语句"
   ]
  },
  {
   "cell_type": "markdown",
   "metadata": {},
   "source": [
    "在Python语言中，除了顺序结构和选择结构之外，还有一种常见的结构：循环结构。所谓循环结构，就是在给定的条件为真的情况下，重复执行某些操作。具体而言，Python语言中的循环结构包含两种语句，分别是while循环语句和for循环语句。\n",
    "\n",
    "Python的while语句的功能是，当给定的条件表达式为真时，重复执行循环体（即需要重复的操作），直到条件为假时才退出循环，并执行循环体后面的语句。while语句的语法形式的示例代码如下：\n"
   ]
  },
  {
   "cell_type": "code",
   "execution_count": null,
   "metadata": {},
   "outputs": [],
   "source": [
    "while<条件>:\n",
    "    <循环体>"
   ]
  },
  {
   "cell_type": "code",
   "execution_count": null,
   "metadata": {},
   "outputs": [],
   "source": [
    "i=1\n",
    "while i<10:\n",
    "    print(i)\n",
    "    i=i+1"
   ]
  },
  {
   "cell_type": "markdown",
   "metadata": {},
   "source": [
    "在循环中，<条件>后有一个冒号，<循环体>要使用缩进的格式。While语句的功能是当<条件>成立（为真）时，执行循环体，然后再次检验<条件>，如果成立，再次执行循环体，直到<条件>不再成立，然后执行后面的程序。"
   ]
  },
  {
   "cell_type": "markdown",
   "metadata": {},
   "source": [
    "### 3.\tfor循环语句"
   ]
  },
  {
   "cell_type": "markdown",
   "metadata": {},
   "source": [
    " Python中for循环是从某个对象那里依次将元素读取出来，可以遍历任何序列的项目，如一个列表或者一个字符串。示例代码如下："
   ]
  },
  {
   "cell_type": "code",
   "execution_count": null,
   "metadata": {},
   "outputs": [],
   "source": [
    "for<循环变量>in<序列>：\n",
    "    <循环体>"
   ]
  },
  {
   "cell_type": "markdown",
   "metadata": {},
   "source": [
    "它在一个序列的对象上递归，即逐一使用队列中的每个项目，对每个项目执行一次循环体。\n",
    "\n",
    "应用中常用的格式的示例代码如下：\n"
   ]
  },
  {
   "cell_type": "code",
   "execution_count": null,
   "metadata": {},
   "outputs": [],
   "source": [
    "for<循环变量>in range(N1,N2,N3):\n",
    "    <循环体>\n"
   ]
  },
  {
   "cell_type": "markdown",
   "metadata": {},
   "source": [
    "其中，N1表示起始值，N2表示终止值，N3表示步长。<循环变量>依次取从N1开始，间隔N3，到N2-1终止的数值，执行<循环体>。示例代码如下： "
   ]
  },
  {
   "cell_type": "code",
   "execution_count": null,
   "metadata": {},
   "outputs": [],
   "source": [
    "for i in range(1,10,3):\n",
    "    print(i)\n",
    "print('The loop is over')\n"
   ]
  },
  {
   "cell_type": "code",
   "execution_count": null,
   "metadata": {},
   "outputs": [],
   "source": []
  }
 ],
 "metadata": {
  "kernelspec": {
   "display_name": "Python 3 (ipykernel)",
   "language": "python",
   "name": "python3"
  },
  "language_info": {
   "codemirror_mode": {
    "name": "ipython",
    "version": 3
   },
   "file_extension": ".py",
   "mimetype": "text/x-python",
   "name": "python",
   "nbconvert_exporter": "python",
   "pygments_lexer": "ipython3",
   "version": "3.9.13"
  },
  "toc": {
   "base_numbering": 1,
   "nav_menu": {},
   "number_sections": false,
   "sideBar": true,
   "skip_h1_title": false,
   "title_cell": "Table of Contents",
   "title_sidebar": "Contents",
   "toc_cell": false,
   "toc_position": {},
   "toc_section_display": true,
   "toc_window_display": false
  }
 },
 "nbformat": 4,
 "nbformat_minor": 4
}
