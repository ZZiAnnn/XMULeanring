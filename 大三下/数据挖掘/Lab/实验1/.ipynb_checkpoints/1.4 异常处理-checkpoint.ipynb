{
 "cells": [
  {
   "cell_type": "markdown",
   "metadata": {},
   "source": [
    "# <center>1.4 异常处理</center>"
   ]
  },
  {
   "cell_type": "markdown",
   "metadata": {},
   "source": [
    "## 1.4.1 什么是异常"
   ]
  },
  {
   "cell_type": "markdown",
   "metadata": {},
   "source": [
    "异常是一个事件，该事件会在代码执行过程中发生，影响代码的正常执行。一般情况下， Python代码在出现错误时就会抛出一个异常。\n",
    "\n",
    "Python允许代码在运行当中检测错误。每检测到一个错误，Python解释器就会抛出一个异常并报出详细的错误信息，我们创建一个异常为例，示例代码如下："
   ]
  },
  {
   "cell_type": "code",
   "execution_count": null,
   "metadata": {},
   "outputs": [],
   "source": [
    "1/0"
   ]
  },
  {
   "cell_type": "markdown",
   "metadata": {},
   "source": [
    "上述示例中我们进行了一个除零的操作（这显然是非法的），于是Python抛出了ZeroDivisionError: division by zero的错误。\n",
    "\n",
    "在用Python编写代码时，认真查看报错信息十分重要，我们可以通过阅读报错信息，并结合相关说明文档了解异常详情。同时在jupyter notebook也方便我们在初学时可以编写多个小代码块方便查找异常。"
   ]
  },
  {
   "cell_type": "markdown",
   "metadata": {},
   "source": [
    "## 1.4.2 常见异常错误"
   ]
  },
  {
   "cell_type": "markdown",
   "metadata": {},
   "source": [
    "|异常名称\t|描述\n",
    "| :-: | :-: |\n",
    "IOError\t|输入/输出操作失败\n",
    "OverflowError\t|数值运算超出最大限制\n",
    "ZeroDivisionError|\t除(或取模)零 (所有数据类型)\n",
    "ImportError|\t导入模块/对象失败\n",
    "LookupError\t|无效数据查询的基类\n",
    "RuntimeError\t|一般的运行时错误\n",
    "SyntaxError|\tPython 语法错误\n",
    "IndentationError\t|缩进错误\n",
    "TabError\t|Tab 和空格混用\n",
    "NameError\t|未声明/初始化对象 (没有属性)\n"
   ]
  },
  {
   "cell_type": "markdown",
   "metadata": {},
   "source": [
    "## 1.4.3 捕捉异常 "
   ]
  },
  {
   "cell_type": "markdown",
   "metadata": {},
   "source": [
    "### 1. 异常捕捉基本语句"
   ]
  },
  {
   "cell_type": "code",
   "execution_count": null,
   "metadata": {},
   "outputs": [],
   "source": [
    "#异常捕捉语句的一般形式是try-except\n",
    "try:\n",
    "    <代码1>\n",
    "except:\n",
    "    <代码2>"
   ]
  },
  {
   "cell_type": "markdown",
   "metadata": {},
   "source": [
    "其中try语句代笔捕捉语句的开始，代码1的部分属于正常执行的代码模块。Except语句用于捕捉异常信息，并可以给出出错信息（英文提示）。下面详解try-except语句的工作过程：\n",
    "\n",
    "①首先执行try语句，代表捕捉异常机制开始；\n",
    "\n",
    "②执行代码1，如果代码1中没有错误，则忽略后续except语句和代码2，代码正常执行完毕；\n",
    "\n",
    "③如果代码1中发现错误，则终止代码1的执行，转而执行except语句；\n",
    "\n",
    "④Except语句捕捉到异常信息并执行代码2语句，异常处理结束。\n"
   ]
  },
  {
   "cell_type": "markdown",
   "metadata": {},
   "source": [
    "### 2. 带finally语句的异常处理"
   ]
  },
  {
   "cell_type": "markdown",
   "metadata": {},
   "source": [
    "在程序运行过程中，有时需要无论是否报错，最后都需要执行一些代码。Finally语句提供了这样的支持功能"
   ]
  },
  {
   "cell_type": "code",
   "execution_count": null,
   "metadata": {},
   "outputs": [],
   "source": [
    "try:\n",
    "    <代码1>\n",
    "except:\n",
    "    <代码2>\n",
    "finally：\n",
    "    <代码3>\n",
    "#在上述语句块中，无论程序执行过程中是否出现异常，finally语句后面的代码都会执行。"
   ]
  },
  {
   "cell_type": "markdown",
   "metadata": {},
   "source": [
    "## 1.4.4 触发异常"
   ]
  },
  {
   "cell_type": "markdown",
   "metadata": {},
   "source": [
    "在Python中，我们可以使用raise语句尝试自己触发异常，使用格式如下：raise [Exception]\n",
    "\n",
    "语句中 Exception 是异常的类型（例如SyntaxError：语法错误）。"
   ]
  },
  {
   "cell_type": "code",
   "execution_count": null,
   "metadata": {},
   "outputs": [],
   "source": [
    "def test_age(age):\n",
    "    if age<1:\n",
    "        raise Exception('Invalid age!',age)\n",
    "test_age(0)"
   ]
  },
  {
   "cell_type": "code",
   "execution_count": null,
   "metadata": {},
   "outputs": [],
   "source": []
  }
 ],
 "metadata": {
  "kernelspec": {
   "display_name": "Python 3 (ipykernel)",
   "language": "python",
   "name": "python3"
  },
  "language_info": {
   "codemirror_mode": {
    "name": "ipython",
    "version": 3
   },
   "file_extension": ".py",
   "mimetype": "text/x-python",
   "name": "python",
   "nbconvert_exporter": "python",
   "pygments_lexer": "ipython3",
   "version": "3.11.3"
  },
  "toc": {
   "base_numbering": 1,
   "nav_menu": {},
   "number_sections": false,
   "sideBar": true,
   "skip_h1_title": false,
   "title_cell": "Table of Contents",
   "title_sidebar": "Contents",
   "toc_cell": false,
   "toc_position": {},
   "toc_section_display": true,
   "toc_window_display": false
  }
 },
 "nbformat": 4,
 "nbformat_minor": 4
}
