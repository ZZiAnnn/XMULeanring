{
 "cells": [
  {
   "cell_type": "markdown",
   "metadata": {},
   "source": [
    "# 实验1 Python基础知识"
   ]
  },
  {
   "cell_type": "markdown",
   "metadata": {},
   "source": [
    "# <center>1.1 Python介绍</center>"
   ]
  },
  {
   "cell_type": "markdown",
   "metadata": {},
   "source": [
    "  Python是荷兰人Guido van Rossum（吉多·范罗苏姆）于20世纪90年代开发出来的编程语言，当初只是想要尝试编写一种替代ABC这种编程语言的脚本语言，如今竟成为风靡全球的编程语言。Python语法相对简单，符合人们的思维习惯，通过自带的集成环境直接执行源程序代码，而且可以在Windows、Linux等操作系统平台上运行，它最强大之处就在于丰富实用的第三方库，让我们能高效灵活地编写程序应付各领域的工作。\n",
    "  \n",
    "   编程语言多种多样，但是有开源和闭源之分。Python就是一个开放核心源代码（即开源）的编程语言，它开发代码的效率非常高，而且代码非常易读，适用于多人参与的项目。它支持面向对象的编程方式，同样也可以面向过程，非常灵活。它不但免费，而且可以任意复制、分发。正因为Python是这样一款开源、自由、容易获得的软件，所以每一个使用者都可以阅读并修改代码。\n"
   ]
  },
  {
   "cell_type": "markdown",
   "metadata": {},
   "source": [
    "## 1.1.1 Jupyter Notebook的简介及使用"
   ]
  },
  {
   "cell_type": "markdown",
   "metadata": {},
   "source": [
    "### 1. Anaconda 简介"
   ]
  },
  {
   "cell_type": "markdown",
   "metadata": {},
   "source": [
    "Anaconda是一个Python的发行版，包括了Python很多常见常用的程序库, 和一个包管理器Conda。Anaconda能够通过包管理器conda和推荐的基于浏览器的Jupyter Notebook开发环境，大大简化程序开发工作流程。不仅能够满足用户安装、更新卸载工具包的需求，而且能够使用不同的虚拟环境隔离不同要求的项目，使用户更高效地工作。"
   ]
  },
  {
   "cell_type": "markdown",
   "metadata": {},
   "source": [
    "### 2.\tJupyter Notebook 简介"
   ]
  },
  {
   "cell_type": "markdown",
   "metadata": {},
   "source": [
    "Anaconda中的Jupyter Notebook是一款基于浏览器网页方式、用于交互计算的应用程序。其可被应用于以下过程：开发、文档编写、运行代码和展示结果。\n",
    "Jupyter Notebook提供了一个网页方式的开发环境，您可以在其中记录代码、运行代码、查看结果和数据可视化。这些特性使其成为一款数据科学工作中非常便捷的工具，可以用于数据清洗、统计建模、机器学习模型的构建和训练等。\n",
    "当你还在构建项目原型时，Jupyter Notebook的优势便十分突出，因为你的代码是被写入独立的单元中并被单独执行的。这允许用户测试项目中的特定代码块，而无需每次都从代码的最开始执行代码。"
   ]
  },
  {
   "cell_type": "markdown",
   "metadata": {},
   "source": [
    "### 3. Ananconda环境的安装"
   ]
  },
  {
   "cell_type": "markdown",
   "metadata": {},
   "source": [
    "**Anaconda安装步骤如下:**\n",
    "\n",
    "①访问Anaconda官网：https://www.anaconda.com/；\n",
    "\n",
    "②点击“Download Now”图标，下载Python 3.7 version或者最新版本。根据电脑的版本选择64-Bit Graphical Installer或者32-Bit Graphical Installer；\n",
    "\n",
    "③下载完成后，点击后缀名为.exe的安装程序进行安装，在默认设置的“Advanced Options”中，勾选“Add Anaconda to the system PATH environment variable”，直接将Anaconda加入环境变量。然后按照安装程序提示，继续安装，直到完成安装工作；\n",
    "\n",
    "**Jupyter Notebook的初次使用步骤如下：**\n",
    "\n",
    "①在搜索栏中搜索“cmd”或者“Anaconda Prompt (Anaconda3)”，打开命令提示符，输入Jupyter Notebook，等待浏览器窗口弹出即可（使用的是您的电脑中的默认浏览器），注意命令提示符进入的文件目录位置即是Jupyter Notebook启动后的根目录位置；或者直接打开Anaconda应用程序文件夹中的Jupyter Notebook (Anaconda3)进行启动；\n",
    "\n",
    "②看到出现的浏览器页面后，发现在其左上角有个“jupyter”图标，目录区显示当前目录下的子目录或文件。如果这时您想要创建一个Jupyter Notebook文件，可以点击浏览器右上部的“new”按钮，再点击 “Python3”按钮，此时出现页面标题为“Untitled”的Jupyter Notebook的空白使用界面，默认有一行空的单元格，我们即可在其中写Python代码或文字描述。\n"
   ]
  },
  {
   "cell_type": "markdown",
   "metadata": {},
   "source": [
    "### 4. Jupyter Notebook使用说明"
   ]
  },
  {
   "cell_type": "markdown",
   "metadata": {},
   "source": [
    "#### （1）输入、执行代码（shfit+enter）"
   ]
  },
  {
   "cell_type": "markdown",
   "metadata": {},
   "source": [
    "在使用界面中，你会看到一个“In[]:”的框，这个框叫做单元格。在单元格中输入需执行的代码，点击上方的“运行”按钮执行代码或按“shift+enter”执行代码。单元格下方将出现代码结果。"
   ]
  },
  {
   "cell_type": "code",
   "execution_count": 2,
   "metadata": {},
   "outputs": [
    {
     "data": {
      "text/plain": [
       "1"
      ]
     },
     "execution_count": 2,
     "metadata": {},
     "output_type": "execute_result"
    }
   ],
   "source": [
    "1"
   ]
  },
  {
   "cell_type": "markdown",
   "metadata": {},
   "source": [
    "In[1]：表示该代码在这个文件中第1次执行\n",
    "\n",
    "Out[1]：表示该结果在这个文件中第1次输出"
   ]
  },
  {
   "cell_type": "code",
   "execution_count": null,
   "metadata": {},
   "outputs": [],
   "source": [
    "#在同一个单元格中需要输出多个值时，应用print()语句而不是直接输入。若直接输入，只会输出最后一个值\n",
    "1\n",
    "2"
   ]
  },
  {
   "cell_type": "code",
   "execution_count": 1,
   "metadata": {},
   "outputs": [
    {
     "name": "stdout",
     "output_type": "stream",
     "text": [
      "1\n",
      "2\n"
     ]
    }
   ],
   "source": [
    "print(1)\n",
    "print(2)"
   ]
  },
  {
   "cell_type": "markdown",
   "metadata": {},
   "source": [
    "#### (2)\t单元格格式"
   ]
  },
  {
   "cell_type": "markdown",
   "metadata": {},
   "source": [
    "在工具栏右侧有一个下拉框，它可以用于修改单元格格式。点开发现有几个选项：\n",
    "\n",
    "代码：单元格格式为正常的Python代码格式。\n",
    "\n",
    "标记：单元格格式为text文档编辑格式，可在里面输入文本。\n",
    "\n",
    "标题：单元格格式标题。一个#号代表一级标题，两个#号代表2级标题，以此类推。"
   ]
  },
  {
   "cell_type": "markdown",
   "metadata": {},
   "source": [
    "#### (3)\t修改文档名称并保存"
   ]
  },
  {
   "cell_type": "markdown",
   "metadata": {},
   "source": [
    "修改文档名称：点击上方的“Untitled”或者点击“File”菜单中的“rename”按钮进行更名。\n",
    "\n",
    "保存文件：Ctrl+S快捷键保存文档，默认是保存为ipynb格式，保存在主目录下。"
   ]
  },
  {
   "cell_type": "markdown",
   "metadata": {},
   "source": [
    "#### (4)\tJupyter Notebook 主目录"
   ]
  },
  {
   "cell_type": "markdown",
   "metadata": {},
   "source": [
    "第一次启动Jupyter Notebook后所在的目录即为主目录或根目录。\n",
    "\n",
    "Jupyter Notebook（以下简称Notebook）指定主目录主要有以下两种方式：\n",
    "\n",
    "①打开指定目录，按下shift键并且点击鼠标右键，点击“此处打开powershell的窗口”的按键，在弹出的命令行中输入jupyter notebook，即可弹出Notebook的使用界面。此时该指定目录即为主目录，启动好的Notebook中即显示了该主目录下的子目录与文件。\n",
    "\n",
    "②在cmd中输入cd/d  C:\\data并按下回车，再输入jupyter notebook并按下回车，即可弹出Notebook的使用界面。C:\\data为指定的目录，要将其设为主目录。读者可以根据自己的需要自行更改。"
   ]
  },
  {
   "cell_type": "markdown",
   "metadata": {},
   "source": [
    "## 1.1.2 Python基础概念"
   ]
  },
  {
   "cell_type": "markdown",
   "metadata": {},
   "source": [
    "Python不仅仅是脚本语言，它也是一个面向对象编程语言。Python中一切皆是对象。Python中最常用的对象是常量和变量。常量是用于保存固定值的单元，在程序中，常量的值通常不能发生改变。常量的赋值通常为数字、字符串、布尔值。变量的概念基本上和数学中的方程变量是一样的，只是在Python程序中，变量不仅可以是数字，还可以是字符串等任意数据类型。除常量和变量之外，本小节还将介绍注释、缩进、转义符等基本操作。"
   ]
  },
  {
   "cell_type": "markdown",
   "metadata": {},
   "source": [
    "### 1. 常量"
   ]
  },
  {
   "cell_type": "markdown",
   "metadata": {},
   "source": [
    "常量的类型主要为数字、字符串、布尔值。数字又有整数、浮点数之分"
   ]
  },
  {
   "cell_type": "markdown",
   "metadata": {},
   "source": [
    "#### (1)\t整数"
   ]
  },
  {
   "cell_type": "markdown",
   "metadata": {},
   "source": [
    "Python可以处理包含负负数在内任意大小的整数，在程序中的表示方法和在数学上的写法完全相同"
   ]
  },
  {
   "cell_type": "code",
   "execution_count": null,
   "metadata": {},
   "outputs": [],
   "source": [
    "print(10) \n",
    "print(-5)"
   ]
  },
  {
   "cell_type": "markdown",
   "metadata": {},
   "source": [
    "#### (2)\t浮点数"
   ]
  },
  {
   "cell_type": "markdown",
   "metadata": {},
   "source": [
    "浮点数也就是小数，之所以称其为浮点数，是因为在科学计数法中，浮点数的小数点的位置是可变的"
   ]
  },
  {
   "cell_type": "code",
   "execution_count": 3,
   "metadata": {},
   "outputs": [
    {
     "name": "stdout",
     "output_type": "stream",
     "text": [
      "1230000000.0\n",
      "1230000000.0\n"
     ]
    }
   ],
   "source": [
    "print (1.23 * 10 ** 9) \n",
    "print (12.3 * 10 ** 8) "
   ]
  },
  {
   "cell_type": "code",
   "execution_count": null,
   "metadata": {},
   "outputs": [],
   "source": [
    "#对于过大或过小的浮点数，为了方便通常用科学计数法表示，用e代替10\n",
    "10e2 #10乘10的二次方"
   ]
  },
  {
   "cell_type": "code",
   "execution_count": 4,
   "metadata": {
    "scrolled": true
   },
   "outputs": [
    {
     "data": {
      "text/plain": [
       "0.1"
      ]
     },
     "execution_count": 4,
     "metadata": {},
     "output_type": "execute_result"
    }
   ],
   "source": [
    "10e-2"
   ]
  },
  {
   "cell_type": "markdown",
   "metadata": {},
   "source": [
    "#### (3)\t字符串"
   ]
  },
  {
   "cell_type": "markdown",
   "metadata": {},
   "source": [
    "字符串是以单引号''或双引号“”括起来的任意文本，比如'abc'，”xyz”等。需要注意的是，''或“”只是一种用于表示字符串的方式，并不是字符串的一部分，因此，字符串'xyz'只有x，y和z这3个字符。如果'本身也是一个字符，可以用“”括起来，比如”She's beautiful”可以用双引号加单引号的方式呈现：”She’s beautiful”。\n",
    "\n",
    "但是如果一个字符串中同时出现单引号和双引号的情况，我们将在第二点转义符中详细介绍。另还有三引号的字符串表示方法，后面的内容中也会提到。"
   ]
  },
  {
   "cell_type": "code",
   "execution_count": null,
   "metadata": {},
   "outputs": [],
   "source": [
    "print(\"This's Python！\")\n",
    "print('This is Python!')"
   ]
  },
  {
   "cell_type": "markdown",
   "metadata": {},
   "source": [
    "#### (4) 布尔值"
   ]
  },
  {
   "cell_type": "markdown",
   "metadata": {},
   "source": [
    "布尔值即逻辑值表示真、假两种情况。真和假这两种布尔值分别用True、False表示况，而且不可以同时存在。在Python中，可以直接用首字母大写的True、False表示布尔值，也可以通过布尔运算计算出来。"
   ]
  },
  {
   "cell_type": "code",
   "execution_count": null,
   "metadata": {},
   "outputs": [],
   "source": [
    "#直接用首字母大写的True、False表示布尔值\n",
    "print(True)\n",
    "print(False)\n",
    "#通过布尔运算计算出来\n",
    "print(10>1)\n",
    "print(10>100)"
   ]
  },
  {
   "cell_type": "markdown",
   "metadata": {},
   "source": [
    "布尔值支持and、or和not等逻辑运算"
   ]
  },
  {
   "cell_type": "code",
   "execution_count": null,
   "metadata": {},
   "outputs": [],
   "source": [
    "#and运算：“与”运算，只有所有值均为True时运算结果才是True\n",
    "print(True and True)\n",
    "print(True and False)\n",
    "print(False and False)"
   ]
  },
  {
   "cell_type": "code",
   "execution_count": null,
   "metadata": {},
   "outputs": [],
   "source": [
    "#or运算：“或”运算，只要其中有一个值为True，运算结果就是True\n",
    "print(True or True)\n",
    "print(True or False)\n",
    "print(False or False)"
   ]
  },
  {
   "cell_type": "code",
   "execution_count": null,
   "metadata": {
    "scrolled": true
   },
   "outputs": [],
   "source": [
    "#not运算：“非”运算，这是一个单目运算符，可以实现True和False的随机转换\n",
    "print(not True)\n",
    "print(not False)"
   ]
  },
  {
   "cell_type": "code",
   "execution_count": null,
   "metadata": {},
   "outputs": [],
   "source": [
    "#布尔值经常应用在条件判断中\n",
    "workingtime=20\n",
    "if workingtime>12:\n",
    "    print('good')\n",
    "else:\n",
    "    print('fighting')\n"
   ]
  },
  {
   "cell_type": "markdown",
   "metadata": {},
   "source": [
    "### 2. 转义符"
   ]
  },
  {
   "cell_type": "markdown",
   "metadata": {},
   "source": [
    "在常量中我们提到如果字符串中同时出现单引号和双引号的情况，我们可以使用转义符来实现字符串的可读。"
   ]
  },
  {
   "cell_type": "code",
   "execution_count": null,
   "metadata": {},
   "outputs": [],
   "source": [
    "#字符\\本身也要转义；\\n表示换行\n",
    "print('Don\\'t learn,\\njust use it!')"
   ]
  },
  {
   "cell_type": "code",
   "execution_count": null,
   "metadata": {},
   "outputs": [],
   "source": [
    "#\\t表示制表符\n",
    "print('I\\tlove python\\\\notebook')"
   ]
  },
  {
   "cell_type": "code",
   "execution_count": null,
   "metadata": {},
   "outputs": [],
   "source": [
    "#使用”r”表示内部的字符串默认不转义\n",
    "print('\\\\python\\tnotbook\\\\')\n",
    "print(r'\\\\python\\tnotebook\\\\')"
   ]
  },
  {
   "cell_type": "markdown",
   "metadata": {},
   "source": [
    "### 3. 注释"
   ]
  },
  {
   "cell_type": "markdown",
   "metadata": {},
   "source": [
    "当我们在编写代码，需要对部分代码进行文字解释以提高代码的可理解性时；或者要对他人的代码进行修改时，需要保留一些并不运行的代码，此时则需要对代码进行注释。在Notebook中用#号注释单行代码。如果要注释的代码过长，则可用三引号进行注释。"
   ]
  },
  {
   "cell_type": "code",
   "execution_count": null,
   "metadata": {},
   "outputs": [],
   "source": [
    "#三引号注释\n",
    "'''\n",
    "a=1\n",
    "b=2\n",
    "c=3\n",
    "d=4\n",
    "e=5\n",
    "'''\n",
    "a=1.0\n",
    "b=2.0\n",
    "c=3.0\n",
    "d=4.0\n",
    "e=5.0"
   ]
  },
  {
   "cell_type": "code",
   "execution_count": null,
   "metadata": {},
   "outputs": [],
   "source": [
    "#假设要修改某位同学的代码，又想保留他的错误，可以用三引号实现代码块的注释\n",
    "'''\n",
    "a=1\n",
    "b=2\n",
    "c=3\n",
    "d=4\n",
    "e=5\n",
    "'''\n",
    "a=1.0\n",
    "b=2.0\n",
    "c=3.0\n",
    "d=4.0\n",
    "e=5.0"
   ]
  },
  {
   "cell_type": "markdown",
   "metadata": {},
   "source": [
    "注释的作用不仅仅是对代码的说明解释，当一组代码运行产生问题时，可以使用注释来检查或者寻找产生问题的代码，这是学习过程中十分实用的方法。\n",
    "\n",
    "使用“CTRL”+“？”组合键可以将选中的代码或者文字批量注释，再按一次这个组合键可以解除批量注释。"
   ]
  },
  {
   "cell_type": "markdown",
   "metadata": {},
   "source": [
    "### 4. 变量及其命名规范"
   ]
  },
  {
   "cell_type": "markdown",
   "metadata": {},
   "source": [
    "变量名必须是大小写英文、数字和下划线的组合，且不能用数字开头"
   ]
  },
  {
   "cell_type": "code",
   "execution_count": null,
   "metadata": {},
   "outputs": [],
   "source": [
    "a=123\n",
    "print(a)     #a是整数\n",
    "a='ABC'\n",
    "print(a)     #a为字符串\n"
   ]
  },
  {
   "cell_type": "code",
   "execution_count": null,
   "metadata": {},
   "outputs": [],
   "source": [
    "#赋值语句的等号不等同于数学中等号；程序中的“=”代表赋值\n",
    "x=10\n",
    "x=x+2 #先计算右侧表达式，再将结果赋值给变量x\n",
    "x"
   ]
  },
  {
   "cell_type": "markdown",
   "metadata": {},
   "source": [
    "### 5. 缩进"
   ]
  },
  {
   "cell_type": "markdown",
   "metadata": {},
   "source": [
    "缩进决定代码行的层次，从而用来决定语句执行的先后顺序。在Python中规定同一层次的语句必须具有相同的缩进值。简而言之，Python是用不同的空白缩进来表示不同的语句块的。"
   ]
  },
  {
   "cell_type": "code",
   "execution_count": null,
   "metadata": {},
   "outputs": [],
   "source": [
    "List=[1,2,3,4,5]\n",
    "num=0\n",
    "for i in List:\n",
    "    if i < 4:\n",
    "        num=num+1\n",
    "        print(num)\n",
    "    else:\n",
    "        pass\n",
    "#上述代码中，if语句和else语句是同一层次的语句，是for语句后的循环体\n",
    "#num语句和print语句是同一层次的语句，是if后面的语句块"
   ]
  },
  {
   "cell_type": "markdown",
   "metadata": {},
   "source": [
    "## 1.1.3 输入和输出"
   ]
  },
  {
   "cell_type": "markdown",
   "metadata": {},
   "source": [
    "### 1. 输入"
   ]
  },
  {
   "cell_type": "code",
   "execution_count": null,
   "metadata": {},
   "outputs": [],
   "source": [
    "name=input()"
   ]
  },
  {
   "cell_type": "code",
   "execution_count": null,
   "metadata": {},
   "outputs": [],
   "source": [
    "name"
   ]
  },
  {
   "cell_type": "code",
   "execution_count": null,
   "metadata": {},
   "outputs": [],
   "source": [
    "print(name)"
   ]
  },
  {
   "cell_type": "markdown",
   "metadata": {
    "tags": []
   },
   "source": [
    "### 2. 输出"
   ]
  },
  {
   "cell_type": "code",
   "execution_count": null,
   "metadata": {},
   "outputs": [],
   "source": [
    "print('Hello,Python')"
   ]
  },
  {
   "cell_type": "code",
   "execution_count": null,
   "metadata": {},
   "outputs": [],
   "source": [
    "print('The quick brown fox','jumps over','the lazy dog')"
   ]
  },
  {
   "cell_type": "code",
   "execution_count": null,
   "metadata": {},
   "outputs": [],
   "source": [
    "#print语句打印整数\n",
    "print(300)"
   ]
  },
  {
   "cell_type": "code",
   "execution_count": null,
   "metadata": {},
   "outputs": [],
   "source": [
    "#print语句打印计算结果\n",
    "print(100+200)"
   ]
  },
  {
   "cell_type": "code",
   "execution_count": null,
   "metadata": {},
   "outputs": [],
   "source": [
    "#为了美化界面，在计算结果前加上说明\n",
    "print('100+200=',100+200) #前面的部分是字符串，后面的部分是计算"
   ]
  },
  {
   "cell_type": "code",
   "execution_count": null,
   "metadata": {},
   "outputs": [],
   "source": [
    "name=input()#将用户的输入存入到name变量中\n",
    "print('hello,',name)#根据用户的名字向用户说hello"
   ]
  },
  {
   "cell_type": "code",
   "execution_count": null,
   "metadata": {},
   "outputs": [],
   "source": [
    "name=input('please enter your name:')#提示信息告诉用户需要输入的内容\n",
    "print('hello,',name)"
   ]
  },
  {
   "cell_type": "markdown",
   "metadata": {},
   "source": [
    "## 1.1.4 运算符"
   ]
  },
  {
   "cell_type": "markdown",
   "metadata": {},
   "source": [
    "### 1. 运算符"
   ]
  },
  {
   "cell_type": "markdown",
   "metadata": {},
   "source": [
    "Python 中包含着数学中的多种运算法则"
   ]
  },
  {
   "cell_type": "markdown",
   "metadata": {},
   "source": [
    "|运算符   | 名称  | 说明 | 例子\n",
    "| :-: | :-: | :-: | :-: |\n",
    "|+|\t加|\t两个对象相加|\t3 + 5得到8；'a' + 'b'得到'ab'\n",
    "|-|\t减|\t得到负数或是一个数减去另一个数|\t-5.2是负数；50 - 24得到26\n",
    "|*|\t乘|\t两个数相乘或是返回一个被重复若干次的字符串|\t2 * 3得到。'la' * 3得到'lalala'\n",
    "|**|幂|\t返回x的y次幂|\t3 ** 4得到81（即3 * 3 * 3 * 3）\n",
    "|/\t|除|\tx除以y|\t4.0/3得到1.3333333333333333\n",
    "|//\t|取整除|\t返回商的整数部分|\t4 // 3得到1.0\n",
    "|%\t|取余|\t返回除法的余数|\t8%3得到2\n",
    "|<\t|小于|\t返回x是否小于y。所有比较运算符返回1表示真，返回0表示假。这分别与特殊的变量True和False等价。|\t5 < 3返回0（即False）而3 < 5返回1（即True）；比较可以被任意连接：3 < 5 < 7返回True\n",
    "|>\t|大于|\t返回x是否大于y|\t5 > 3返回True；如果两个操作数都是数字，它们首先被转换为一个共同的类型否则，它总是返回False\n",
    "|<=\t|小于等于|\t返回x是否小于等于y|\tx = 3; y = 6; x <= y返回True\n",
    "|>=\t|大于等于|\t返回x是否大于等于y|\tx = 4; y = 3; x >= y返回True\n",
    "|==\t|等于|\t比较对象是否相等|\tx = 2; y = 2; x == y返回True\n",
    "|!=\t|不等于|\t比较两个对象是否不相等|\tx = 2; y = 3; x != y返回True"
   ]
  },
  {
   "cell_type": "markdown",
   "metadata": {},
   "source": [
    "### 2. 运算符优先级"
   ]
  },
  {
   "cell_type": "markdown",
   "metadata": {},
   "source": [
    "下表给出了Python中的运算符优先级，并按照优先级从高到低排列。这意味着在一个表达式中，如果没有括号，Python会首先计算表中较上面的运算符，然后在再计算列在表下面的运算符。因此在书写Python代码时，为了代码的可读性建议使用圆括号来对运算符和操作数进行分组，以便能够明确地指出运算的先后顺序。例如，在表达式12 + 3 * 4中乘法先进行运算，而表达式(12 + 3) * 4中，因有圆括号，加先进行运算。"
   ]
  },
  {
   "cell_type": "markdown",
   "metadata": {},
   "source": [
    "|运算符 |描述 |\n",
    "| :-: | :-: | \n",
    "|**\t|指数 (最高优先级)\n",
    "|~ + -\t|按位翻转， 一元加号和减号 (最后两个的方法名为 +@ 和 -@)\n",
    "|* / % //\t|乘，除，取模和取整除\n",
    "|+ -|加法减法\n",
    "|>> <<|右移，左移运算符\n",
    "|&\t|位 'AND'\n",
    "|^ &#124; |位运算符\n",
    "|<= < > >=|\t比较运算符\n",
    "|<> == !=|\t等于运算符\n",
    "|= %= /= //= -= += *= **=|\t赋值运算符\n",
    "|is is not|\t身份运算符\n",
    "|in not in|\t成员运算符\n",
    "|not and or|\t逻辑运算符\n"
   ]
  },
  {
   "cell_type": "code",
   "execution_count": null,
   "metadata": {},
   "outputs": [],
   "source": []
  }
 ],
 "metadata": {
  "kernelspec": {
   "display_name": "Python 3 (ipykernel)",
   "language": "python",
   "name": "python3"
  },
  "language_info": {
   "codemirror_mode": {
    "name": "ipython",
    "version": 3
   },
   "file_extension": ".py",
   "mimetype": "text/x-python",
   "name": "python",
   "nbconvert_exporter": "python",
   "pygments_lexer": "ipython3",
   "version": "3.9.13"
  },
  "toc": {
   "base_numbering": 1,
   "nav_menu": {},
   "number_sections": false,
   "sideBar": true,
   "skip_h1_title": false,
   "title_cell": "Table of Contents",
   "title_sidebar": "Contents",
   "toc_cell": false,
   "toc_position": {},
   "toc_section_display": true,
   "toc_window_display": false
  }
 },
 "nbformat": 4,
 "nbformat_minor": 4
}
