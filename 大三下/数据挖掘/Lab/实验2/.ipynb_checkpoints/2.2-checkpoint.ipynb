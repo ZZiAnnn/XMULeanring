{
 "cells": [
  {
   "cell_type": "markdown",
   "metadata": {},
   "source": [
    "# <center> 2.2 Numpy数值计算</center>"
   ]
  },
  {
   "cell_type": "markdown",
   "metadata": {},
   "source": [
    "在本章中，我们将介绍Numpy的简单入门使用方法，具体分为Numpy基础简介和Numpy常用操作简介。"
   ]
  },
  {
   "cell_type": "markdown",
   "metadata": {},
   "source": [
    "## 2.2.1  Numpy基础简介"
   ]
  },
  {
   "cell_type": "markdown",
   "metadata": {},
   "source": [
    "### 1. Numpy 简介"
   ]
  },
  {
   "cell_type": "markdown",
   "metadata": {},
   "source": [
    "Numpy是一个功能强大的Python库，主要用于对多维数组执行计算。这类数值计算在机器学习模型、图像处理和计算机图形学、数学任务得到了普遍的应用\n"
   ]
  },
  {
   "cell_type": "markdown",
   "metadata": {},
   "source": [
    "#### (1)\t机器学习模型\n",
    "Numpy提供了一个非常好的库，用于简单(在编写代码方面)和快速(在速度方面)计算。Numpy数组常用于存储训练数据和机器学习模型的参数。"
   ]
  },
  {
   "cell_type": "markdown",
   "metadata": {},
   "source": [
    "#### (2)\t图像处理和计算机图形学\n",
    "计算机中的图像表示为多维数字数组。Numpy可以很方便地存储数字图像数据。"
   ]
  },
  {
   "cell_type": "markdown",
   "metadata": {},
   "source": [
    "#### (3)\t数学任务\n",
    "Numpy对于执行各种数学任务非常有用，如数值积分、微分、内插、外推等，MATLAB的快速替代。"
   ]
  },
  {
   "cell_type": "markdown",
   "metadata": {},
   "source": [
    "### 2．Numpy的安装和调用"
   ]
  },
  {
   "cell_type": "markdown",
   "metadata": {},
   "source": [
    "为了减少后续输入时间，一般用as成别名的方式将Numpy简略为np，后面使用Numpy时，只需输入两个字母np即可"
   ]
  },
  {
   "cell_type": "code",
   "execution_count": null,
   "metadata": {},
   "outputs": [],
   "source": [
    "import numpy as np"
   ]
  },
  {
   "cell_type": "markdown",
   "metadata": {},
   "source": [
    "### 3．数组的概念"
   ]
  },
  {
   "cell_type": "markdown",
   "metadata": {},
   "source": [
    "Numpy中，最重要的数据对象是ndarray，即多维数组对象，它是存储着相同类型数据的n维数组集合。\n",
    "Python科学计算库都是用到了Numpy的数组。这些库内部操作先将序列类型（例如列表）转换为Numpy的ndarray数组类型，而且输出通常就是Numpy ndarray数组。"
   ]
  },
  {
   "cell_type": "markdown",
   "metadata": {},
   "source": [
    "## 2.2.2\t Numpy基础用法简介"
   ]
  },
  {
   "cell_type": "markdown",
   "metadata": {},
   "source": [
    "### 1. 创建数组"
   ]
  },
  {
   "cell_type": "code",
   "execution_count": null,
   "metadata": {},
   "outputs": [],
   "source": [
    "a = np.array((0,1,2,3,4)) #将序列传入数组\n",
    "b = np.arange(4) #返回间隔均匀的数组（默认步长为1）\n",
    "c = np.ones((2,3)) #创建一个全为1的二维数组\n",
    "d = np.zeros((2,3)) #创建一个全为0的二维数组\n",
    "e = np.eye(3,3) #创建一个向左倾斜对角线上为1，其余为0的二维数组\n",
    "f = np.linspace(0,9,num=3) #创建在指定间隔内返回均匀间隔的一维数组\n",
    "print(a)\n",
    "print(b)\n",
    "print(c)\n",
    "print(d)\n",
    "print(e)\n",
    "print(f)"
   ]
  },
  {
   "cell_type": "markdown",
   "metadata": {},
   "source": [
    "### 2. Numpy数据类型"
   ]
  },
  {
   "cell_type": "markdown",
   "metadata": {},
   "source": [
    "<center><img src='imgs/numpydatatype.png' width=800 height=800/></center>"
   ]
  },
  {
   "cell_type": "markdown",
   "metadata": {},
   "source": [
    "数据类型对象（dtype）是用来描述与数组对应的内存区域如何使用<br>\n",
    "dtype对象构造如下：<br>\n",
    "numpy.dtype(object,align,copy)<br>\n",
    "<br>\n",
    "参数含义如下：<br>\n",
    "object:要转换数据类型的对象<br>\n",
    "align:如果为True，填充字段使其类似C语言的结构体<br>\n",
    "copy:复制其他数据类型的dtype并赋于当前对象，如果为False，则引用内置数据类型<br>"
   ]
  },
  {
   "cell_type": "code",
   "execution_count": null,
   "metadata": {},
   "outputs": [],
   "source": [
    "import numpy as np\n",
    "dt1 = np.dtype(np.float16) #align,copy缺省为False\n",
    "dt2 = np.dtype('i4')#int8,int16,int32,int64可以使用字符串'i1','i2','i4','i8'代替\n",
    "print(dt1)\n",
    "print(dt2)"
   ]
  },
  {
   "cell_type": "markdown",
   "metadata": {},
   "source": [
    "<center><img src='imgs/dtypecode.png' width=7500 height=450 /></center>"
   ]
  },
  {
   "cell_type": "code",
   "execution_count": null,
   "metadata": {
    "tags": []
   },
   "outputs": [],
   "source": [
    "import numpy as np\n",
    "\n",
    "a = np.dtype('b1') #变量a为布尔类型且长度为一个字节\n",
    "print(a.type) # 输出a的变量类型\n",
    "print(a.itemsize) # 输出a的字节数 \n",
    "\n",
    "b = np.dtype('i8') #变量b为整数类型且长度为八个字节\n",
    "print(b.type)\n",
    "print(b.itemsize)\n"
   ]
  },
  {
   "cell_type": "markdown",
   "metadata": {},
   "source": [
    "### 3. 数组的基本操作"
   ]
  },
  {
   "cell_type": "markdown",
   "metadata": {},
   "source": [
    "#### （1）numpy.reshape函数\n",
    "numpy.reshape函数可以在不改变数据的条件下修改形状，格式如下：<br> numpy.reshape(arr,newshape,order='C')<br>\n",
    "<br>\n",
    "相关参数说明如下：<br>\n",
    "arr：要修改形状的数组<br>\n",
    "newshape：整数或者整数数组，新的形状应当兼容原有形状<br>\n",
    "order：'C'--按行，'F'--按列，'A'--原顺序。<br>"
   ]
  },
  {
   "cell_type": "code",
   "execution_count": null,
   "metadata": {},
   "outputs": [],
   "source": [
    "import numpy as np\n",
    "\n",
    "a = np.arange(12) #原数组是一个一维数组\n",
    "print('原数组:')\n",
    "print(a)\n",
    "\n",
    "b = np.reshape(a,(3,4),order='F') #新数组是三行四列的二维数据，按列填充\n",
    "print('修改后数组:')\n",
    "print(b)\n",
    "\n"
   ]
  },
  {
   "cell_type": "markdown",
   "metadata": {},
   "source": [
    "#### （2）数组的四则运算\n",
    "相当于将两个数字各自相同位置的数进行运算，再放回原位置形成一个新的数组"
   ]
  },
  {
   "cell_type": "code",
   "execution_count": null,
   "metadata": {},
   "outputs": [],
   "source": [
    "import numpy as np\n",
    "arr = np.array([[1,2,3],[3,2,1]])\n",
    "print(arr)\n",
    "print(arr*arr)   #数组相乘\n",
    "print(arr+arr)   #数组相加\n",
    "print(arr-arr)   #数组相减\n",
    "print(arr/arr)   #数组相除\n",
    "print(1/arr)"
   ]
  },
  {
   "cell_type": "markdown",
   "metadata": {},
   "source": [
    "#### （3）numpy.flatten()函数\n",
    "flatten函数返回的是数组的一个拷贝，将数组上所有的维度展开成一维后输出。修改拷贝不会影响原始数组."
   ]
  },
  {
   "cell_type": "code",
   "execution_count": null,
   "metadata": {},
   "outputs": [],
   "source": [
    "import numpy as np\n",
    "a = np.arange(12).reshape(3, 4)\n",
    "print('原数组：')\n",
    "print(a)\n",
    "b = a.flatten()\n",
    "print('展平数组：')\n",
    "print(b)\n",
    "b[1] = 9   #数组第2个值改为9\n",
    "print('修改后展平数组：')\n",
    "print(b)\n",
    "print('原数组：')\n",
    "print(a)\n"
   ]
  },
  {
   "cell_type": "markdown",
   "metadata": {},
   "source": [
    "#### （4）numpy.ravel()函数\n",
    "该函数用于展平数组元素，这里返回的是数组视图，即修改会影响原始数组。"
   ]
  },
  {
   "cell_type": "code",
   "execution_count": null,
   "metadata": {},
   "outputs": [],
   "source": [
    "import numpy as np\n",
    "a = np.arange(12).reshape(3, 4)\n",
    "print('原数组：')\n",
    "print(a)\n",
    "b = a.ravel()\n",
    "print('展平数组：')\n",
    "print(b)\n",
    "b[1] = 9    #数组第2个值改为9\n",
    "print('修改后展平数组：')\n",
    "print(b)\n",
    "print('原数组：')\n",
    "print(a)"
   ]
  },
  {
   "cell_type": "markdown",
   "metadata": {},
   "source": []
  },
  {
   "cell_type": "markdown",
   "metadata": {},
   "source": [
    "### 4. 数组的翻转"
   ]
  },
  {
   "cell_type": "markdown",
   "metadata": {},
   "source": [
    "Numpy中的数组对象类似于矩阵，因此矩阵中的转置、对换等操作也可以通过相关的函数实现。下面介绍三个主要的函数，transpose、T、和swapaxes。"
   ]
  },
  {
   "cell_type": "markdown",
   "metadata": {},
   "source": [
    "#### （1）numpy.transpose函数用于对换数组的维度"
   ]
  },
  {
   "cell_type": "markdown",
   "metadata": {},
   "source": [
    "参数说明:<br>\n",
    "arr：要操作的数组<br>axes：整数列表，对应维度，通常所有维度都会对换"
   ]
  },
  {
   "cell_type": "code",
   "execution_count": null,
   "metadata": {},
   "outputs": [],
   "source": [
    "import numpy as np\n",
    "a = np.arange(9).reshape(3,3)\n",
    "print('原数组：')\n",
    "print(a)\n",
    "print('对换数组：')\n",
    "print(np.transpose(a))"
   ]
  },
  {
   "cell_type": "markdown",
   "metadata": {},
   "source": [
    "#### （2）T的作用类似于前者Transpose，与self.transpose()相同，即数组转置。"
   ]
  },
  {
   "cell_type": "code",
   "execution_count": null,
   "metadata": {},
   "outputs": [],
   "source": [
    "import numpy as np\n",
    "a = np.arange(6).reshape(2,3)\n",
    "print('原数组：')\n",
    "print(a)\n",
    "print('数组转置')\n",
    "print(a.T)"
   ]
  },
  {
   "cell_type": "markdown",
   "metadata": {},
   "source": [
    "#### （3）numpy.swapaxes函数用于交换数组的两个轴"
   ]
  },
  {
   "cell_type": "markdown",
   "metadata": {},
   "source": [
    "参数说明:<br>\n",
    "arr：输入的数组<br>\n",
    "axis1：对应第一个轴的整数<br>\n",
    "axis2：对应第二个轴的整数<br>\n",
    "<center><img src='imgs/swapaxes.png' width=500 height=750 /></center>"
   ]
  },
  {
   "cell_type": "code",
   "execution_count": null,
   "metadata": {},
   "outputs": [],
   "source": [
    "import numpy as np\n",
    "a = np.arange(8).reshape(2,2,2)\n",
    "print('原数组：')\n",
    "print(a)\n",
    "print('swapaxes函数：')\n",
    "print(np.swapaxes(a,2,0))#交换0轴到2轴"
   ]
  },
  {
   "cell_type": "markdown",
   "metadata": {},
   "source": [
    "### 5. 数组的连接与分割"
   ]
  },
  {
   "cell_type": "markdown",
   "metadata": {},
   "source": [
    "Numpy中可以非常方便的实现数组的分割和连接操作。数组连接\n",
    "数组连接通常使用concatenate和stack函数进行；数组分割通常用split、hsplit和vsplit等函数完成\n"
   ]
  },
  {
   "cell_type": "markdown",
   "metadata": {},
   "source": [
    "#### （1）数组连接\n",
    "\n",
    "numpy.concatenate函数用于沿指定轴连接相同形状的两个或多个数组<br>函数形式：numpy.concatenate((a1, a2, ...), axis)<br>\n",
    "<br>\n",
    "参数说明：<br>\n",
    "a1,a2,...：表示相同类型的数组<br>\n",
    "axis：沿着它连接数组的轴，默认为0<br>\n",
    "<center><img src='imgs/concatenate.png' width=600 height=850 /></center>"
   ]
  },
  {
   "cell_type": "code",
   "execution_count": null,
   "metadata": {},
   "outputs": [],
   "source": [
    "import numpy as np\n",
    "a = np.array([[2,4],[6,8]])\n",
    "print('数组a：')\n",
    "print(a)\n",
    "b = np.array([[1,3],[5,7]])\n",
    "print('数组b：')\n",
    "print(b)\n",
    "print('沿轴0链接数组')\n",
    "print(np.concatenate((a,b)))\n",
    "print('沿轴1链接数组')\n",
    "print(np.concatenate((a,b),axis = 1))"
   ]
  },
  {
   "cell_type": "markdown",
   "metadata": {},
   "source": [
    "函数形式：numpy.stack(arrays, axis)<br>\n",
    "<br>\n",
    "参数说明：<br>\n",
    "arrays：相同形状的数组序列<br>\n",
    "axis：返回数组中的轴，输入数组沿着它来堆叠<br>\n",
    "<center><img src='imgs/stack.png' width=600 height=850 /></center>\n"
   ]
  },
  {
   "cell_type": "code",
   "execution_count": null,
   "metadata": {},
   "outputs": [],
   "source": [
    "import numpy as np\n",
    "a = np.array([[1,2],[3,4]])\n",
    "print('数组a：')\n",
    "print(a)\n",
    "b = np.array([[5,6],[7,8]])\n",
    "print('数组b：')\n",
    "print(b)\n",
    "print('沿轴0堆叠数组：')\n",
    "print(np.stack((a,b),0))"
   ]
  },
  {
   "cell_type": "markdown",
   "metadata": {},
   "source": [
    "#### （2）数组分割\n",
    "数组分割通常用split、hsplit和vsplit等函数完成\n",
    "\n"
   ]
  },
  {
   "cell_type": "markdown",
   "metadata": {},
   "source": [
    "①numpy.split将函数沿特定的轴沿数组分割为数个子数组，函数形式如下：<br>\n",
    "numpy.split(ary,indices_or_sections,axis)<br>\n",
    "<br>\n",
    "参数说明：<br>\n",
    "ary：被分割的数组<br>\n",
    "indices_or_sections：如果是一个整数，就用该数平均切分，如果是一个数组，为沿轴切分的位置（左开右闭）<br>\n",
    "axis：该参数决定沿着哪个维度进行切向，默认为0横向切分。当该参数为1时，纵向切分。<br>\n",
    "<center><img src='imgs/split.png' width=600 height=850 /></center>"
   ]
  },
  {
   "cell_type": "code",
   "execution_count": null,
   "metadata": {},
   "outputs": [],
   "source": [
    "import numpy as np\n",
    "a = np.arange(9)\n",
    "print('数组a：')\n",
    "print(a)\n",
    "print('将数组分为三个大小相等的子数组：')\n",
    "b = np.split(a,3)   #等宽划分\n",
    "print(b)\n",
    "print('将数组按一维数组位置分割：')\n",
    "b = np.split(a,[2,5])\n",
    "print(b)\n"
   ]
  },
  {
   "cell_type": "markdown",
   "metadata": {},
   "source": [
    "②numpy.hsplit函数用于水平分割数组，通过指定要返回的相同形状的数组数量来拆分原数组。<br>\n",
    "③numpy.vsplit沿着垂直轴分割，其分割方式与hsplit用法相同。<br>\n",
    "<center><img src='imgs/hvsplit.png' width=600 height=850 /></center>"
   ]
  },
  {
   "cell_type": "code",
   "execution_count": null,
   "metadata": {},
   "outputs": [],
   "source": [
    "import numpy as np\n",
    "a = np.arange(16).reshape(4,4)\n",
    "print('数组a：')\n",
    "print(a)\n",
    "print('水平分割：')\n",
    "print(np.hsplit(a,2))\n",
    "print('竖直分割：')\n",
    "b = np.vsplit(a,2)\n",
    "print(b)"
   ]
  },
  {
   "cell_type": "markdown",
   "metadata": {},
   "source": [
    "## 2.2.3\t Numpy数据分析常用函数简介"
   ]
  },
  {
   "cell_type": "markdown",
   "metadata": {},
   "source": [
    "Numpy中内置了大量用于完成数据分析处理的数学函数和统计函数"
   ]
  },
  {
   "cell_type": "markdown",
   "metadata": {},
   "source": [
    "### 1.常用数学函数"
   ]
  },
  {
   "cell_type": "markdown",
   "metadata": {},
   "source": [
    "Numpy包含大量的各种数学运算的函数，包括三角函数，取整函数，四舍五入函数"
   ]
  },
  {
   "cell_type": "markdown",
   "metadata": {},
   "source": [
    "#### (1)\t三角函数"
   ]
  },
  {
   "cell_type": "code",
   "execution_count": null,
   "metadata": {},
   "outputs": [],
   "source": [
    "\n",
    "import numpy as np\n",
    "a = np.array([30,60,90])\n",
    "b = a*np.pi/180\n",
    "print(b)\n",
    "print('正弦值：')\n",
    "print(np.sin(b))\n",
    "print('余弦值：')\n",
    "print(np.cos(b))\n",
    "print('正切值：')\n",
    "print(np.tan(b))\n",
    "print('弧度转角度：')\n",
    "print(np.degrees(b)) \n",
    "#如需求数组中角度的三角函数值时，可以使用numpy.pi/180将角度转化为弧度，同样也可以通过numpy.degrees()函数将弧度转化为角度\n"
   ]
  },
  {
   "cell_type": "markdown",
   "metadata": {},
   "source": [
    "#### (2)\t四舍五入函数"
   ]
  },
  {
   "cell_type": "code",
   "execution_count": null,
   "metadata": {},
   "outputs": [],
   "source": [
    "import numpy as np\n",
    "a = np.array([3.0,5.55,36.125])\n",
    "print('原数组：')\n",
    "print(a)\n",
    "print('四舍五入：')\n",
    "print(np.around(a))\n",
    "print(np.around(a,decimals=1)) #decimals:决定舍入的小数位数\n",
    "print(np.around(a,decimals=-1))#参数为负数时，整数将四舍五入到小数点左侧的位置"
   ]
  },
  {
   "cell_type": "markdown",
   "metadata": {},
   "source": [
    "#### (3)\t取整函数"
   ]
  },
  {
   "cell_type": "code",
   "execution_count": null,
   "metadata": {},
   "outputs": [],
   "source": [
    "import numpy as np\n",
    "a = np.array([1.5,-1.3,30,0.65])\n",
    "print('原数组：')\n",
    "print(a)\n",
    "print('向下取整')\n",
    "print(np.floor(a))\n",
    "print('向上取整')\n",
    "print(np.ceil(a))\n"
   ]
  },
  {
   "cell_type": "markdown",
   "metadata": {},
   "source": [
    "### 2.常用统计函数"
   ]
  },
  {
   "cell_type": "markdown",
   "metadata": {},
   "source": [
    "<center><img src='imgs/statfunc.png' width=600 height=400 /></center>"
   ]
  },
  {
   "cell_type": "markdown",
   "metadata": {},
   "source": [
    "Numpy提供了大量统计需要的函数，包括从数组中查找最小元素，最大元素，平均数，标准差，方差等"
   ]
  },
  {
   "cell_type": "code",
   "execution_count": null,
   "metadata": {},
   "outputs": [],
   "source": [
    "a=np.array([[4,6,8],[1,3,5],[2,7,9]])\n",
    "print('原数组：')\n",
    "print(a)\n",
    "print('amin()函数：')\n",
    "print(np.amin(a))\n",
    "print('按0轴找最小值：')\n",
    "print(np.amin(a,0))\n",
    "print('按1轴找最大值：')\n",
    "print(np.amax(a,1))"
   ]
  },
  {
   "cell_type": "code",
   "execution_count": null,
   "metadata": {},
   "outputs": [],
   "source": [
    "import numpy as np\n",
    "a = np.array([[30,40,50],[60,80,35],[70,85,55]])\n",
    "print('原数组：')\n",
    "print(a)\n",
    "print('median()函数')\n",
    "print(np.median(a))\n",
    "print('沿0轴求中位数：')\n",
    "print(np.median(a,axis=0)) #指定了轴则沿轴计算。这里的算术平均值指沿轴的元素的总和除以元素的数量\n"
   ]
  },
  {
   "cell_type": "code",
   "execution_count": null,
   "metadata": {},
   "outputs": [],
   "source": [
    "import numpy as np\n",
    "a = np.array([1,2,3,4])\n",
    "print('原数组：')\n",
    "print(a)\n",
    "wt=np.array([4,3,2,1])\n",
    "print('带权重的average()函数')\n",
    "print(np.average(a,weights=wt))\n",
    "#根据权重的不同，不同元素对整体的贡献程度也不同。加权平均即指将各数值乘以相应的权数进行求和，再除以总的单位数。注意，当不指定权重时，该函数与mean()作用相同。"
   ]
  },
  {
   "cell_type": "code",
   "execution_count": null,
   "metadata": {},
   "outputs": [],
   "source": []
  }
 ],
 "metadata": {
  "kernelspec": {
   "display_name": "Python 3 (ipykernel)",
   "language": "python",
   "name": "python3"
  },
  "language_info": {
   "codemirror_mode": {
    "name": "ipython",
    "version": 3
   },
   "file_extension": ".py",
   "mimetype": "text/x-python",
   "name": "python",
   "nbconvert_exporter": "python",
   "pygments_lexer": "ipython3",
   "version": "3.11.3"
  },
  "toc": {
   "base_numbering": 1,
   "nav_menu": {},
   "number_sections": false,
   "sideBar": true,
   "skip_h1_title": false,
   "title_cell": "Table of Contents",
   "title_sidebar": "Contents",
   "toc_cell": false,
   "toc_position": {},
   "toc_section_display": true,
   "toc_window_display": false
  }
 },
 "nbformat": 4,
 "nbformat_minor": 4
}
