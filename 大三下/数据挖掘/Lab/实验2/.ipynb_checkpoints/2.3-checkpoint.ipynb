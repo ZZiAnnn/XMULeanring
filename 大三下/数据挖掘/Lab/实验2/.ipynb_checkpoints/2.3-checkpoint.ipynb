{
 "cells": [
  {
   "cell_type": "markdown",
   "metadata": {},
   "source": [
    "# <center>2.3 Pandas基础知识</center>"
   ]
  },
  {
   "cell_type": "markdown",
   "metadata": {},
   "source": [
    "Pandas的数据结构(Data structure)是使用Pandas各项功能的基础，Pandas中常用的数据结构主要有一维数据结构Series和二维数据结构DataFrame，接下来我们将用两节内容来分别介绍Series和DataFrame的基本操作"
   ]
  },
  {
   "cell_type": "markdown",
   "metadata": {},
   "source": [
    "## 2.3.1 Series介绍及其基本操作"
   ]
  },
  {
   "cell_type": "markdown",
   "metadata": {},
   "source": [
    "Series，中文译为“序列”，是由一组数据以及相对应的一组索引（index，可以理解为数据标签）组成，其结构是基于Numpy的ndarray结构，可以理解为是一维带索引的数组（结构有点类似Python里的字典）"
   ]
  },
  {
   "cell_type": "code",
   "execution_count": null,
   "metadata": {},
   "outputs": [],
   "source": [
    "import numpy as np\n",
    "import pandas as pd"
   ]
  },
  {
   "cell_type": "markdown",
   "metadata": {},
   "source": [
    "### 1.Series创建\n",
    "Series的创建方法主要有列表创建、Numpy数组创建、字典创建三种"
   ]
  },
  {
   "cell_type": "markdown",
   "metadata": {},
   "source": [
    "#### ⑴ 由列表进行创建"
   ]
  },
  {
   "cell_type": "code",
   "execution_count": null,
   "metadata": {},
   "outputs": [],
   "source": [
    "a1=pd.Series(data=[1,3,4,5])\n",
    "a1"
   ]
  },
  {
   "cell_type": "markdown",
   "metadata": {},
   "source": [
    "#### ⑵ 由Numpy进行创建"
   ]
  },
  {
   "cell_type": "code",
   "execution_count": null,
   "metadata": {},
   "outputs": [],
   "source": [
    "a2=pd.Series(data=np.linspace(0,10,3))\n",
    "a2"
   ]
  },
  {
   "cell_type": "markdown",
   "metadata": {},
   "source": [
    "#### ⑶ 由字典进行创建"
   ]
  },
  {
   "cell_type": "code",
   "execution_count": null,
   "metadata": {},
   "outputs": [],
   "source": [
    "dic={\n",
    "    'python':90,\n",
    "    'java':80,\n",
    "    'c++':70,\n",
    "    'c':60\n",
    "}\n",
    "a3=pd.Series(data=dic)\n",
    "a3"
   ]
  },
  {
   "cell_type": "markdown",
   "metadata": {},
   "source": [
    "### 2. Series的索引与切片\n",
    "Series的索引包含显式地索引和隐式地索引两种。显式地索引是指使用Series中的具体索引参数进行索引，隐式地索引是指根据Series中的索引参数所在的位置进行索引。下面将分别介绍："
   ]
  },
  {
   "cell_type": "markdown",
   "metadata": {},
   "source": [
    "#### (1)\t显式索引"
   ]
  },
  {
   "cell_type": "code",
   "execution_count": null,
   "metadata": {},
   "outputs": [],
   "source": [
    "a3['python'] #使用[]进行索引"
   ]
  },
  {
   "cell_type": "code",
   "execution_count": null,
   "metadata": {},
   "outputs": [],
   "source": [
    "a3[['python','java']] #使用[]进行索引"
   ]
  },
  {
   "cell_type": "code",
   "execution_count": null,
   "metadata": {},
   "outputs": [],
   "source": [
    "a3.loc['python'] #使用.loc进行索引"
   ]
  },
  {
   "cell_type": "code",
   "execution_count": null,
   "metadata": {},
   "outputs": [],
   "source": [
    "a3.loc[['python','java']] #使用.loc进行索引"
   ]
  },
  {
   "cell_type": "markdown",
   "metadata": {},
   "source": [
    "#### (2)\t隐式索引"
   ]
  },
  {
   "cell_type": "code",
   "execution_count": null,
   "metadata": {},
   "outputs": [],
   "source": [
    "a3[0] #使用[]进行索引"
   ]
  },
  {
   "cell_type": "code",
   "execution_count": null,
   "metadata": {},
   "outputs": [],
   "source": [
    "a3.iloc[[0,1]] #使用.iloc进行索引"
   ]
  },
  {
   "cell_type": "markdown",
   "metadata": {},
   "source": [
    "Series切片功能和Numpy实现数组的切片相差不大，都是通过索引序号来实现其切片功能"
   ]
  },
  {
   "cell_type": "code",
   "execution_count": null,
   "metadata": {},
   "outputs": [],
   "source": [
    "a3.loc['java':'c']   #字典位置从java到c的"
   ]
  },
  {
   "cell_type": "code",
   "execution_count": null,
   "metadata": {},
   "outputs": [],
   "source": [
    "a3.iloc[0:2]         #注意，不包括索引2"
   ]
  },
  {
   "cell_type": "markdown",
   "metadata": {},
   "source": [
    "## 2.3.2 DataFrame介绍及其基本操作\n",
    "DataFrame就是用来表示二维数据的类，它由行名（index）、列名(columns)和数据(values)组成，数据的类型可以是数值或者字符串"
   ]
  },
  {
   "cell_type": "markdown",
   "metadata": {},
   "source": [
    "### 1.DataFrame的创建"
   ]
  },
  {
   "cell_type": "markdown",
   "metadata": {},
   "source": [
    "#### (1)\t直接使用Pandas的DataFrame函数创建"
   ]
  },
  {
   "cell_type": "code",
   "execution_count": null,
   "metadata": {},
   "outputs": [],
   "source": [
    "df1=pd.DataFrame([[1,2,3],[4,5,6],[7,8,9]],index=list('123'),columns=list('ABC'))\n",
    "df1"
   ]
  },
  {
   "cell_type": "markdown",
   "metadata": {},
   "source": [
    "第一个参数是存放在DataFrame的数据，第二个参数是index，即行名，在这里是‘123’，第三个参数是columns，即列名，在这里是‘ABC’"
   ]
  },
  {
   "cell_type": "markdown",
   "metadata": {},
   "source": [
    "#### (2)\t使用字典进行创建"
   ]
  },
  {
   "cell_type": "code",
   "execution_count": null,
   "metadata": {},
   "outputs": [],
   "source": [
    "dic1={'A':[1,2,3],'B':[4,5,6],'C':[7,8,9]}\n",
    "df2=pd.DataFrame(dic1)\n",
    "df2"
   ]
  },
  {
   "cell_type": "markdown",
   "metadata": {},
   "source": [
    "字典的key对应的是列名，而每个key对应的value，是这一列的内容"
   ]
  },
  {
   "cell_type": "markdown",
   "metadata": {},
   "source": [
    "### 2.DataFrame的基础操作"
   ]
  },
  {
   "cell_type": "markdown",
   "metadata": {},
   "source": [
    "#### (1)\t列的索引、添加与删除"
   ]
  },
  {
   "cell_type": "code",
   "execution_count": null,
   "metadata": {},
   "outputs": [],
   "source": [
    "df1=pd.DataFrame([[1,2,3],[4,5,6],[7,8,9]],index=list('123'),columns=list('ABC'))\n",
    "print(df1)\n",
    "print(df1['C']) #可以用df['列名']来索引一列"
   ]
  },
  {
   "cell_type": "markdown",
   "metadata": {},
   "source": [
    "增加一列，如果是插入到最后一列，可以直接赋值<BR>如果想插入到指定位置，可以使用DataFrame中的insert()函数进行操作"
   ]
  },
  {
   "cell_type": "code",
   "execution_count": null,
   "metadata": {},
   "outputs": [],
   "source": [
    "dic1={'A':[1,2,3],'B':[4,5,6],'C':[7,8,9]}\n",
    "df2=pd.DataFrame(dic1)\n",
    "print(df2)\n",
    "df2['D']=df2['A']+df2['B']    #在最后一列插入D列，D列为A列+B列\n",
    "print(df2)\n",
    "df2.insert(2,'F','0')         #loc=2,插入到第三列\n",
    "print(df2)\n",
    "print(df2.iloc[:,3])          #输出第4列,插入F后的第4列是C"
   ]
  },
  {
   "cell_type": "markdown",
   "metadata": {},
   "source": [
    "删除：删除有两种方法,用del方法或者用pop()函数<BR>两者的区别在于，del仅完成删除，pop()除了完成删除，还将删除值返回"
   ]
  },
  {
   "cell_type": "code",
   "execution_count": null,
   "metadata": {},
   "outputs": [],
   "source": [
    "dic1={'A':[1,2,3],'B':[4,5,6],'C':[7,8,9]}\n",
    "df2=pd.DataFrame(dic1)\n",
    "print(df2)\n",
    "del df2['A']                 #删除列A\n",
    "B=df2.pop('B')               #删除列B，并将列B的值返回，返回值类型：Series\n",
    "print(B)\n",
    "print(df2)"
   ]
  },
  {
   "cell_type": "markdown",
   "metadata": {},
   "source": [
    "#### (2)\t行的索引、添加与删除"
   ]
  },
  {
   "cell_type": "markdown",
   "metadata": {},
   "source": [
    "行的索引可以直接使用行名来进行索引<BR>代码为df.loc[标签]<BR>也可以指定索引第loc行，代码为df.iloc[第几行]"
   ]
  },
  {
   "cell_type": "code",
   "execution_count": null,
   "metadata": {},
   "outputs": [],
   "source": [
    "dic1={'A':[1,2,3],'B':[4,5,6],'C':[7,8,9]}\n",
    "df2=pd.DataFrame(dic1)\n",
    "print(df2)\n",
    "print(df2.loc[[1],:])        #按索引名输出行\n",
    "print(df2.iloc[1])           #按索引号输出行"
   ]
  },
  {
   "cell_type": "markdown",
   "metadata": {},
   "source": [
    "添加：添加一行，可以直接赋值<BR>参考代码为：df.loc[行名]=[添加的数据]"
   ]
  },
  {
   "cell_type": "code",
   "execution_count": null,
   "metadata": {},
   "outputs": [],
   "source": [
    "dic1={'A':[1,2,3],'B':[4,5,6],'C':[7,8,9]}\n",
    "df2=pd.DataFrame(dic1)\n",
    "print(df2)\n",
    "df2.loc['2']=['10','11','12']   #增加一行,索引名是'2'，不是2\n",
    "print(df2)\n",
    "print(df2.loc[['2'],:])             #注意，输出索引名是'2'的行\n",
    "print(df2.iloc[3,:])              \n",
    "df2.loc[2]=['13','14','15']   #如果对已有行索引名，会覆盖掉已有的行\n",
    "print(df2)"
   ]
  },
  {
   "cell_type": "markdown",
   "metadata": {},
   "source": [
    "删除行常用DataFrame.drop()函数<BR>参考代码为：<BR>DataFrame.drop(index=[行的名称]，inplace=True/False)，<BR>其中index是希望删除的一行或多行的名称（这里对列也适用，如果想删除列，使用columns参数即可），inplace参数的是否在原对象基础上进行修改"
   ]
  },
  {
   "cell_type": "code",
   "execution_count": null,
   "metadata": {},
   "outputs": [],
   "source": [
    "dic1={'A':[1,2,3],'B':[4,5,6],'C':[7,8,9]}\n",
    "df2=pd.DataFrame(dic1)\n",
    "print(df2)\n",
    "df2.drop(index=[0], inplace=True)      #删除“0”行，直接修改原始对象\n",
    "print(df2)\n",
    "df3=df2.drop(index=[1], inplace=False) #删除“0”行，不直接修改原始对象\n",
    "print(df2)   #df2保持不变\n",
    "print(df3)\n"
   ]
  },
  {
   "cell_type": "code",
   "execution_count": null,
   "metadata": {},
   "outputs": [],
   "source": []
  }
 ],
 "metadata": {
  "kernelspec": {
   "display_name": "Python 3 (ipykernel)",
   "language": "python",
   "name": "python3"
  },
  "language_info": {
   "codemirror_mode": {
    "name": "ipython",
    "version": 3
   },
   "file_extension": ".py",
   "mimetype": "text/x-python",
   "name": "python",
   "nbconvert_exporter": "python",
   "pygments_lexer": "ipython3",
   "version": "3.11.3"
  },
  "toc": {
   "base_numbering": 1,
   "nav_menu": {},
   "number_sections": false,
   "sideBar": true,
   "skip_h1_title": false,
   "title_cell": "Table of Contents",
   "title_sidebar": "Contents",
   "toc_cell": false,
   "toc_position": {},
   "toc_section_display": true,
   "toc_window_display": false
  }
 },
 "nbformat": 4,
 "nbformat_minor": 4
}
