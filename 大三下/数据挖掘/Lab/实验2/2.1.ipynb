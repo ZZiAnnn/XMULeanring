{
 "cells": [
  {
   "cell_type": "markdown",
   "metadata": {
    "tags": []
   },
   "source": [
    "# <center>第2章 Python数据科学常用库</center> \n",
    "丰富且强大的第三方库正是Python最强大的能力之一，也可以说是Python在世界范围内广泛流行的最主要原因。\n",
    "\n",
    "本章后面的内容将逐一介绍Python这些数据科学常用库的基本使用方法，主要内容如图所示。\n",
    "\n",
    "<center><img src='imgs/2.1.png' width=600 height=400 /></center>"
   ]
  },
  {
   "cell_type": "markdown",
   "metadata": {},
   "source": [
    "## 2.1 Python数据分析概述\n",
    "\n",
    "对于数据分析工作而言，一般分为以下四个工作流程：读取数据-数据清洗-分析建模-结果展示。\n",
    "\n",
    "Python中，Numpy、Pandas和Matplotlib是最为常用的三个数据分析包，这三个包的功能涵盖了读取数据-数据清洗-分析建模-结果展示的四个数据分析工作流程。\n"
   ]
  },
  {
   "cell_type": "markdown",
   "metadata": {},
   "source": [
    "Numpy引入了一个强大的数组对象ndarray，Ndarray是以n维数组的方式对数据进行存储和处理，相较Python自身的嵌套列表结构，大大提高了多维数据处理分析的效率，为科学计算提供了巨大的帮助。"
   ]
  },
  {
   "cell_type": "markdown",
   "metadata": {},
   "source": [
    "Pandas拥有高效便捷地对大型数据集进行操作与分析所需的工具，这些工具主要是指能够指导我们简单方便地对数据多样化处理的各类函数。其功能覆盖了读取数据-数据清洗-分析建模的数据分析过程。"
   ]
  },
  {
   "cell_type": "markdown",
   "metadata": {},
   "source": [
    "Matplotlib是一个用于数据可视化的绘图工具，其功能可以很好地完成数据分析中数据展示的工作。"
   ]
  },
  {
   "cell_type": "code",
   "execution_count": null,
   "metadata": {},
   "outputs": [],
   "source": []
  }
 ],
 "metadata": {
  "kernelspec": {
   "display_name": "Python 3 (ipykernel)",
   "language": "python",
   "name": "python3"
  },
  "language_info": {
   "codemirror_mode": {
    "name": "ipython",
    "version": 3
   },
   "file_extension": ".py",
   "mimetype": "text/x-python",
   "name": "python",
   "nbconvert_exporter": "python",
   "pygments_lexer": "ipython3",
   "version": "3.11.3"
  },
  "toc": {
   "base_numbering": 1,
   "nav_menu": {},
   "number_sections": false,
   "sideBar": true,
   "skip_h1_title": false,
   "title_cell": "Table of Contents",
   "title_sidebar": "Contents",
   "toc_cell": false,
   "toc_position": {},
   "toc_section_display": true,
   "toc_window_display": false
  }
 },
 "nbformat": 4,
 "nbformat_minor": 4
}
